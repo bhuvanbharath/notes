{
 "cells": [
  {
   "cell_type": "markdown",
   "id": "7fe59df1",
   "metadata": {},
   "source": [
    "# Python Intermediate:"
   ]
  },
  {
   "cell_type": "markdown",
   "id": "19b51d50",
   "metadata": {},
   "source": [
    "## Lists\n",
    "\n",
    "Ordered | Mutable | allows duplicate elements | squared brackets"
   ]
  },
  {
   "cell_type": "code",
   "execution_count": 5,
   "id": "4067ef37",
   "metadata": {},
   "outputs": [
    {
     "name": "stdout",
     "output_type": "stream",
     "text": [
      "['banana', 'apple', 'orange', 'pome']\n",
      "[]\n",
      "pome\n",
      "yes\n",
      "4\n",
      "['banana', 'apple', 'lemon', 'orange', 'pome']\n",
      "['banana', 'apple', 'lemon', 'orange']\n",
      "['orange', 'lemon', 'apple', 'banana']\n",
      "['apple', 'banana', 'lemon', 'orange']\n",
      "[0, 0, 0, 0, 0]\n",
      "['apple', 'banana', 'lemon', 'orange', 0, 0, 0, 0, 0]\n",
      "5\n",
      "['banana', 'lemon']\n",
      "['apple', 'lemon', 0, 0, 0]\n",
      "[1, 4, 9, 25, 49, 81]\n"
     ]
    }
   ],
   "source": [
    "### EXAMPLES ###\n",
    "\n",
    "fruitList = [\"banana\", \"apple\", \"orange\", \"pome\"]\n",
    "print(fruitList)\n",
    "\n",
    "listOfBugs = list()\n",
    "print(listOfBugs)      #prints an empty list\n",
    "\n",
    "# allows multiple datatypes and duplicates\n",
    "randomList = [5, 20.5, \"hello\", \"hello\"]      \n",
    "\n",
    "# negative indices fetch the element from last\n",
    "fruit = fruitList[-1]     \n",
    "print(fruit)\n",
    "\n",
    "# check if element is present in the list\n",
    "if 'apple' in fruitList:   print('yes')\n",
    "\n",
    "# print the length of lists\n",
    "print (len(fruitList))     \n",
    "\n",
    "# insert an element at specific index\n",
    "fruitList.insert(2, \"lemon\")      \n",
    "print(fruitList)\n",
    "\n",
    "# remove elements\n",
    "item = fruitList.pop()     #removes an item at the end and assign it to 'item' variable\n",
    "#fruitList.remove('apple')\n",
    "print(fruitList)\n",
    "#fruitList.clear()\n",
    "\n",
    "#reverse elements\n",
    "fruitList.reverse()\n",
    "print(fruitList)\n",
    "\n",
    "#sort elements\n",
    "fruitList.sort()\n",
    "print(fruitList)\n",
    "\n",
    "#create a list with n similar elements\n",
    "list1 = [0] * 5\n",
    "print(list1)\n",
    "\n",
    "#concatenate lists\n",
    "list_con = fruitList+list1\n",
    "print(list_con)\n",
    "\n",
    "#count the number of elements\n",
    "print(list_con.count(0))\n",
    "\n",
    "#slice the list\n",
    "list_slice = list_con[1:3]\n",
    "print(list_slice)\n",
    "\n",
    "#slice the list with steps\n",
    "list_slice_step = list_con[::2]     #use negative index [-2] to slice it from the end\n",
    "print(list_slice_step)\n",
    "\n",
    "#list comprehension\n",
    "nums = [1,2,3,5,7,9]\n",
    "sq_nums = [i*i for i in nums]\n",
    "print(sq_nums)"
   ]
  },
  {
   "cell_type": "markdown",
   "id": "92b4dfad",
   "metadata": {},
   "source": [
    "## Tuples\n",
    "\n",
    "Ordered | Immutable | allows duplicates | doesn't allow elements modification"
   ]
  },
  {
   "cell_type": "code",
   "execution_count": null,
   "id": "6683f0e6",
   "metadata": {},
   "outputs": [],
   "source": [
    "### EXAMPLES ###\n",
    "\n",
    "tuple1 = ('bhuvan', 23, 'dev')\n",
    "print (tuple1)\n",
    "\n",
    "#getting the index of specific element \n",
    "print(tuple1.index('dev'))\n",
    "\n",
    "#unpacking elements\n",
    "num_tuple = (1,4,2,6,3,4)\n",
    "i1, *i2, i3 = num_tuple     # '*' denotes all the element between the i1 and i3\n",
    "print(i1)\n",
    "print(i2)\n",
    "print(i3)"
   ]
  },
  {
   "cell_type": "code",
   "execution_count": null,
   "id": "e2ca8794",
   "metadata": {},
   "outputs": [],
   "source": [
    "# LISTS vs TUPLES\n",
    "\n",
    "# List takes up more memory and takes more time to create\n",
    "\n",
    "import sys\n",
    "list1 = [0, 'a', 'hello', 10.5]\n",
    "tuple1 = (0, 'a', 'hello', 10.5)\n",
    "print(sys.getsizeof(list1),'bytes')\n",
    "print(sys.getsizeof(tuple1),'bytes')"
   ]
  },
  {
   "cell_type": "markdown",
   "id": "2e2dc232",
   "metadata": {},
   "source": [
    "## Dictionaries\n",
    "\n",
    "Key-value pairs | Unordered | Mutable"
   ]
  },
  {
   "cell_type": "code",
   "execution_count": null,
   "id": "7eafa68d",
   "metadata": {},
   "outputs": [],
   "source": [
    "sampleDict1 = {\"name\":\"Bhuvan\", \"age\":\"23\", \"state\":\"TamilNadu\"}\n",
    "print(sampleDict1)\n",
    "\n",
    "sampleDict2 = dict(name= \"Devi ma\", age=45, state=\"TamilNadu\")\n",
    "print(sampleDict2)\n",
    "\n",
    "#accessing elements\n",
    "mother = sampleDict2[\"name\"]\n",
    "print(mother)\n",
    "\n",
    "#add items\n",
    "sampleDict1[\"email\"]= \"bhuvanbharath@outlook.com\"\n",
    "print(sampleDict1)\n",
    "\n",
    "#remove items\n",
    "sampleDict1.pop(\"age\")\n",
    "print(sampleDict1)\n",
    "\n",
    "#check if an items is present in dict\n",
    "try:\n",
    "    print(sampleDict1[\"name\"])\n",
    "except:\n",
    "    print(\"an error\")\n",
    "\n",
    "#print all the items in the dictionary\n",
    "for key, value in sampleDict1.items():\n",
    "    print(key, value)\n",
    "\n",
    "#adding tuples in the dicts\n",
    "tuple_dict = ('bhuvan', 'bharath')\n",
    "dict1 = dict(myName=tuple_dict)\n",
    "print(dict1)"
   ]
  },
  {
   "cell_type": "markdown",
   "id": "6bfe5532",
   "metadata": {},
   "source": [
    "## Sets\n",
    "\n",
    "Unordered | Mutable | no duplicates"
   ]
  },
  {
   "cell_type": "code",
   "execution_count": null,
   "id": "ba11d9a2",
   "metadata": {},
   "outputs": [],
   "source": [
    "set1Sample = {1,2,3,5,2,4,1}      # or set1Sample = set([1,2,3,5,2,4,1])\n",
    "print(set1Sample)      #duplicates not allowed\n",
    "\n",
    "#empty set\n",
    "emptySet = set()\n",
    "\n",
    "#add elements\n",
    "set1Sample.add(9)\n",
    "set1Sample.add(12)\n",
    "set1Sample.add(42)\n",
    "print(set1Sample)\n",
    "\n",
    "#remove elements\n",
    "set1Sample.remove(12)\n",
    "print(set1Sample)\n",
    "\n",
    "#union\n",
    "odds = {1,3,5,7,9}\n",
    "evens = {0,2,4,6,8}\n",
    "primes = {2,3,5,7}\n",
    "\n",
    "u = odds.union(evens)\n",
    "print(u)\n",
    "\n",
    "#intersection\n",
    "i = odds.intersection(primes)\n",
    "print(i)\n",
    "\n",
    "#difference\n",
    "d = odds.difference(primes)      #get the elements present in the only \"odds\" set, those are not common to \"odds\" and \"primes\"\n",
    "print(d)\n",
    "\n",
    "#symmetric difference\n",
    "sd = odds.symmetric_difference(primes)   #get the elements present in the both sets, those are not common to \"odds\" and \"primes\"\n",
    "print(sd)\n",
    "\n",
    "#intersection update\n",
    "odds.intersection_update(primes)    #updates the \"odds\" with the elements those are present in both \"odds\" and \"primes\"\n",
    "print(odds)\n",
    "\n",
    "#difference update\n",
    "evens.difference_update(primes)     #update the \"evens\" by removing the common elements between \"evens\" and \"primes\"\n",
    "print(evens)\n",
    "\n",
    "#superset and subset\n",
    "s1 = {1,3,5}\n",
    "s2 = {1,3,5, 7, 9}\n",
    "print(s1.issubset(s2))   #checks if all the elements in s1 is present in s2\n",
    "print(s2.issuperset(s1))   #checks the same as above      \n",
    "\n",
    "#disjoint \n",
    "s3 = {2,4,6}\n",
    "print(s2.isdisjoint(s3))    #checks if s2 and s3 has unique elements\n",
    "\n",
    "#frozen set     these are immutable\n",
    "aadharNos = frozenset([\"562247451754\", \"579824709713\"])\n",
    "print(aadharNos)\n",
    "\n",
    "# aadharNos.add(\"543987904581\")   #err\n",
    "# aadharNos.add(\"562247451754\")   #err"
   ]
  },
  {
   "cell_type": "markdown",
   "id": "2dc885c5",
   "metadata": {},
   "source": [
    "## Strings\n",
    "\n",
    "Ordered | Immutable | Text representation"
   ]
  },
  {
   "cell_type": "code",
   "execution_count": null,
   "id": "091ac3a2",
   "metadata": {},
   "outputs": [],
   "source": [
    "#multi-line strings\n",
    "str1 = \"\"\"bhuvan bharath\n",
    "his frens\n",
    "his frens of frens\"\"\"\n",
    "#print(str1)\n",
    "\n",
    "#reverse string\n",
    "revStr = str1[::-1]\n",
    "print(revStr)\n",
    "\n",
    "#strip\n",
    "str2 = \"    bhuvan    \"\n",
    "str2 = str2.strip()\n",
    "print(str2)\n",
    "\n",
    "#startswith and endswith\n",
    "print(str2.startswith('b'))\n",
    "print(str2.endswith('n'))\n",
    "\n",
    "#find\n",
    "print(str2.find('uv')) #returns the starting index of subset\n",
    "\n",
    "#string to list\n",
    "str3 = \"cats,dogs,birds,fishes\"\n",
    "list_str = str3.split(\",\")\n",
    "print(list_str)\n",
    "\n",
    "#list to string\n",
    "new_str = ' '.join(list_str)\n",
    "print(new_str)\n",
    "\n",
    "#format strings\n",
    "name = \"Bhuvan\"\n",
    "age = 23\n",
    "netWorth = 2.458792\n",
    "print(f\"the person's name: {name}, his age: {age}, his net worth: {netWorth:.2f}bn\")"
   ]
  },
  {
   "cell_type": "markdown",
   "id": "a252c6a2",
   "metadata": {},
   "source": [
    "## Collections\n",
    "\n",
    "Counter | Named tuple | Ordered dict | Default Dict | deque"
   ]
  },
  {
   "cell_type": "code",
   "execution_count": null,
   "id": "413b47d8",
   "metadata": {},
   "outputs": [],
   "source": [
    "### COUNTERS ###\n",
    "# get the counts of the available elements in the list,string,etc.,\n",
    "from collections import Counter\n",
    "a = 'aaandfnsdnadwoefefusajfasjkdfa'    #can also be used with lists\n",
    "counter1 = Counter(a)\n",
    "print(counter1)\n",
    "print(counter1.most_common(1))\n",
    "\n",
    "#accessing most common element\n",
    "print(counter1.most_common()[0][0])\n",
    "\n",
    "#accessing all the elements as list\n",
    "print(list(counter1.elements()))"
   ]
  },
  {
   "cell_type": "code",
   "execution_count": null,
   "id": "1e65ce81",
   "metadata": {},
   "outputs": [],
   "source": [
    "### NAMED TUPLES ### \n",
    "#it is same as structs\n",
    "from collections import namedtuple\n",
    "point = namedtuple('point','x,y,z')\n",
    "pt1 = point(100,0,50)\n",
    "print(pt1)"
   ]
  },
  {
   "cell_type": "code",
   "execution_count": null,
   "id": "2c8443d1",
   "metadata": {},
   "outputs": [],
   "source": [
    "### DEFAULT DICTS ###\n",
    "#it is used to set a default value to a key if it is not present in the dict.\n",
    "from collections import defaultdict\n",
    "defDict = defaultdict(float)\n",
    "defDict['a']=2.3\n",
    "defDict['b']=5.6\n",
    "print(defDict['c'])     #c is not present in the dict"
   ]
  },
  {
   "cell_type": "code",
   "execution_count": null,
   "id": "4fabccc8",
   "metadata": {},
   "outputs": [],
   "source": [
    "### DEQUES ###\n",
    "# double-ended queues\n",
    "# it is used to manipulate the queues from both the ends\n",
    "from collections import deque\n",
    "deq1 = deque()\n",
    "deq1.append(1)\n",
    "deq1.append(3)\n",
    "deq1.extendleft([5,2,9])       #extends by adding elements in the reverse order\n",
    "deq1.appendleft(4)\n",
    "deq1.popleft()\n",
    "print(deq1)\n",
    "\n",
    "deq1.rotate(1)      #move/rotate the elements in the list by 1 step     #negative index to rotate in left side\n",
    "print(deq1) "
   ]
  },
  {
   "cell_type": "markdown",
   "id": "2dcd2a8a",
   "metadata": {},
   "source": [
    "## Itertools\n",
    "\n",
    "Products | Permutations | Combinations | Accumulate | Groupby | Infinite Iterators"
   ]
  },
  {
   "cell_type": "code",
   "execution_count": null,
   "id": "b636eb07",
   "metadata": {},
   "outputs": [],
   "source": [
    "#PRODUCT\n",
    "from itertools import product\n",
    "\n",
    "a= [1,2]\n",
    "b= [3,4]\n",
    "ab = product(a,b)       # mostly used for Cartesian product\n",
    "print(list(ab))"
   ]
  },
  {
   "attachments": {},
   "cell_type": "markdown",
   "id": "27eb0e3f",
   "metadata": {},
   "source": [
    "**Permutation vs Combinations**\n",
    "\n",
    "Permutation - Order matters (Ex: Permutation lock)\n",
    "\n",
    "Combination - Order doesn't matter (Ex: Fruit salad)\n",
    "\n",
    "**NOTE:**  No. of combinations will always be lesser than Permutations"
   ]
  },
  {
   "cell_type": "code",
   "execution_count": null,
   "id": "b36b91d9",
   "metadata": {},
   "outputs": [],
   "source": [
    "#PERMUTATIONS\n",
    "from itertools import permutations\n",
    "\n",
    "a = [1,5,9]\n",
    "perm = permutations(a, 2)   #2 is the no. of elements to be in each permutation of the output\n",
    "print(list(perm))"
   ]
  },
  {
   "cell_type": "code",
   "execution_count": null,
   "id": "06f40d74",
   "metadata": {},
   "outputs": [],
   "source": [
    "#COMBINATIONS\n",
    "from itertools import combinations, combinations_with_replacement\n",
    "\n",
    "a = [1,5,9,7]\n",
    "comb = combinations(a, 2)\n",
    "print(list(comb))\n",
    "\n",
    "comb_wr = combinations_with_replacement(a, 2)   #to make combination of an element with itself\n",
    "print(list(comb_wr))"
   ]
  },
  {
   "cell_type": "code",
   "execution_count": null,
   "id": "4b143f73",
   "metadata": {},
   "outputs": [],
   "source": [
    "#ACCUMULATE\n",
    "#it is used to accumulate the elements in a list.\n",
    "from itertools import accumulate\n",
    "import operator\n",
    "a = [1,4,3,7,5,2]\n",
    "print(list(accumulate(a)))\n",
    "\n",
    "#with \"FUNC\" argument\n",
    "accum_multiply = accumulate(a, func = operator.mul) #mentioning accumulation by an operation, default is ADD\n",
    "print(list(accum_multiply))\n",
    "\n",
    "#with \"INITIAL\" value argument\n",
    "accum_init = accumulate(a, func=max, initial=6)     #adds the element to the initial position of the list and accumulates by finding the max. element\n",
    "print(list(accum_init))"
   ]
  },
  {
   "cell_type": "code",
   "execution_count": null,
   "id": "2217b6f4",
   "metadata": {},
   "outputs": [],
   "source": [
    "# GROUP BY\n",
    "#used to group the list/dict/string by a specific value\n",
    "\n",
    "from itertools import groupby\n",
    "from operator import itemgetter\n",
    "\n",
    "people = [{\"name\": \"bhuvan\", \"age\": 2}, {\"name\": \"fren1\", \"age\": 5},\n",
    "          {\"name\": \"fren2\", \"age\": 2}, {\"name\": \"fren3\", \"age\": 5}]\n",
    "people = sorted(people, key=itemgetter(\"age\"))      #sort the list first\n",
    "group_obj = groupby(people, key = lambda x: x[\"age\"])\n",
    "\n",
    "for key, value in group_obj:\n",
    "    print(key,list(value))"
   ]
  },
  {
   "cell_type": "code",
   "execution_count": null,
   "id": "7ab50115",
   "metadata": {},
   "outputs": [],
   "source": [
    "#INFINITE ITERATORS\n",
    "from itertools import count, cycle, repeat\n",
    "\n",
    "#counting from 10 to 50\n",
    "for i in count(10):\n",
    "    print(i)\n",
    "    if i == 50:\n",
    "        break\n",
    "#cycle a list for infinite times\n",
    "a = [3,5,2]\n",
    "# for i in cycle(a):\n",
    "#     print(i)    #CAUTION: infinite loop\n",
    "\n",
    "#repeat 1 for 10 times\n",
    "for i in repeat(1,10):\n",
    "    print(i)"
   ]
  },
  {
   "cell_type": "markdown",
   "id": "f7498b9b",
   "metadata": {},
   "source": [
    "## Lambda functions\n",
    "\n",
    "Syntax: lambda arguments: expression"
   ]
  },
  {
   "cell_type": "code",
   "execution_count": null,
   "id": "40a682ce",
   "metadata": {},
   "outputs": [],
   "source": [
    "#Example1\n",
    "dd10with = lambda x: x+10\n",
    "print(add10with(61))\n",
    "\n",
    "#Example2\n",
    "multiplyFunc = lambda x,y: x*y\n",
    "print(multiplyFunc(4,7))\n",
    "\n",
    "#Sorting\n",
    "points2D = [(2,1),(4,2),(-8,10),(20,-17)]\n",
    "sortedPoints2D = sorted(points2D, key= lambda x:x[1])   #x[0] for sorting based on the first element\n",
    "print(sortedPoints2D)\n",
    "sortedPoints2D = sorted(points2D, key= lambda x:x[0] + x[1])    #sorting based on the sum\n",
    "print(sortedPoints2D)   #if the sums are same, the elements are sorted based on the position of the array."
   ]
  },
  {
   "cell_type": "markdown",
   "id": "4716a6b7",
   "metadata": {},
   "source": [
    "**Maps, Filter vs LIST COMPREHENSION**  \n",
    "* Use Map function only when the function(that passes as an argument into map function) is already defined.\n",
    "* List Comprehension is used for simple operations."
   ]
  },
  {
   "cell_type": "code",
   "execution_count": null,
   "id": "ef4f6f82",
   "metadata": {},
   "outputs": [],
   "source": [
    "a = [1, 5,2,3,8]\n",
    "\n",
    "def multiplyBy3(x):\n",
    "    return x*3\n",
    "#MAP\n",
    "#syntax: map(func, sequence)\n",
    "map_output = map(multiplyBy3, a)    #or map(lambda x: x*3, a)\n",
    "print(list(map_output))\n",
    "\n",
    "#same result using list comprehension\n",
    "listComp_output = [x*3 for x in a]\n",
    "print(list(listComp_output))\n",
    "\n",
    "#FILTER\n",
    "#syntax: filter(func, sequence)\n",
    "a = [1,2,3,4,5,6,7,8,9]\n",
    "filter_evens = filter(lambda x: x%2==0, a)\n",
    "print(list(filter_evens))\n",
    "\n",
    "#same result using list comprehension\n",
    "evens = [x for x in a if x%2==0]\n",
    "print(list(evens))"
   ]
  },
  {
   "cell_type": "code",
   "execution_count": 19,
   "id": "70799f12",
   "metadata": {},
   "outputs": [
    {
     "name": "stdout",
     "output_type": "stream",
     "text": [
      "120\n"
     ]
    }
   ],
   "source": [
    "# REDUCE\n",
    "#it is used for doing arithmetic or other kinda operations within the elements of the list.\n",
    "from functools import reduce\n",
    "a = [2,4,3,5,1]\n",
    "reduce_op = reduce(lambda x,y: x*y, a)\n",
    "print(reduce_op)"
   ]
  },
  {
   "cell_type": "markdown",
   "id": "af9c9fcb",
   "metadata": {},
   "source": [
    "## Errors and Exceptions"
   ]
  },
  {
   "cell_type": "code",
   "execution_count": 23,
   "id": "1131616c",
   "metadata": {},
   "outputs": [
    {
     "ename": "SyntaxError",
     "evalue": "unmatched ')' (4142139280.py, line 3)",
     "output_type": "error",
     "traceback": [
      "\u001b[1;36m  Input \u001b[1;32mIn [23]\u001b[1;36m\u001b[0m\n\u001b[1;33m    print(a))\u001b[0m\n\u001b[1;37m            ^\u001b[0m\n\u001b[1;31mSyntaxError\u001b[0m\u001b[1;31m:\u001b[0m unmatched ')'\n"
     ]
    }
   ],
   "source": [
    "#SYNTAX ERROR\n",
    "a = 6\n",
    "print(a))"
   ]
  },
  {
   "cell_type": "code",
   "execution_count": 24,
   "id": "dcb1bf1b",
   "metadata": {},
   "outputs": [
    {
     "ename": "TypeError",
     "evalue": "unsupported operand type(s) for +: 'int' and 'str'",
     "output_type": "error",
     "traceback": [
      "\u001b[1;31m---------------------------------------------------------------------------\u001b[0m",
      "\u001b[1;31mTypeError\u001b[0m                                 Traceback (most recent call last)",
      "\u001b[1;32mc:\\GitHub\\notes\\py_intermediate_notes.ipynb Cell 34'\u001b[0m in \u001b[0;36m<cell line: 2>\u001b[1;34m()\u001b[0m\n\u001b[0;32m      <a href='vscode-notebook-cell:/c%3A/GitHub/notes/py_intermediate_notes.ipynb#ch0000040?line=0'>1</a>\u001b[0m \u001b[39m#TYPE ERROR\u001b[39;00m\n\u001b[1;32m----> <a href='vscode-notebook-cell:/c%3A/GitHub/notes/py_intermediate_notes.ipynb#ch0000040?line=1'>2</a>\u001b[0m a \u001b[39m=\u001b[39m \u001b[39m2\u001b[39;49m \u001b[39m+\u001b[39;49m \u001b[39m'\u001b[39;49m\u001b[39m10\u001b[39;49m\u001b[39m'\u001b[39;49m\n",
      "\u001b[1;31mTypeError\u001b[0m: unsupported operand type(s) for +: 'int' and 'str'"
     ]
    }
   ],
   "source": [
    "#TYPE ERROR\n",
    "a = 2 + '10'"
   ]
  },
  {
   "cell_type": "code",
   "execution_count": 25,
   "id": "ede8afb2",
   "metadata": {},
   "outputs": [
    {
     "ename": "ModuleNotFoundError",
     "evalue": "No module named 'someModule'",
     "output_type": "error",
     "traceback": [
      "\u001b[1;31m---------------------------------------------------------------------------\u001b[0m",
      "\u001b[1;31mModuleNotFoundError\u001b[0m                       Traceback (most recent call last)",
      "\u001b[1;32mc:\\GitHub\\notes\\py_intermediate_notes.ipynb Cell 35'\u001b[0m in \u001b[0;36m<cell line: 2>\u001b[1;34m()\u001b[0m\n\u001b[0;32m      <a href='vscode-notebook-cell:/c%3A/GitHub/notes/py_intermediate_notes.ipynb#ch0000041?line=0'>1</a>\u001b[0m \u001b[39m#IMPORT ERROR\u001b[39;00m\n\u001b[1;32m----> <a href='vscode-notebook-cell:/c%3A/GitHub/notes/py_intermediate_notes.ipynb#ch0000041?line=1'>2</a>\u001b[0m \u001b[39mimport\u001b[39;00m \u001b[39msomeModule\u001b[39;00m\n",
      "\u001b[1;31mModuleNotFoundError\u001b[0m: No module named 'someModule'"
     ]
    }
   ],
   "source": [
    "#IMPORT ERROR\n",
    "import someModule\n",
    "\n",
    "#ModuleNotFoundError is a subset of ImportError"
   ]
  },
  {
   "cell_type": "code",
   "execution_count": 26,
   "id": "5a38e509",
   "metadata": {},
   "outputs": [
    {
     "ename": "NameError",
     "evalue": "name 'u' is not defined",
     "output_type": "error",
     "traceback": [
      "\u001b[1;31m---------------------------------------------------------------------------\u001b[0m",
      "\u001b[1;31mNameError\u001b[0m                                 Traceback (most recent call last)",
      "\u001b[1;32mc:\\GitHub\\notes\\py_intermediate_notes.ipynb Cell 36'\u001b[0m in \u001b[0;36m<cell line: 3>\u001b[1;34m()\u001b[0m\n\u001b[0;32m      <a href='vscode-notebook-cell:/c%3A/GitHub/notes/py_intermediate_notes.ipynb#ch0000042?line=0'>1</a>\u001b[0m \u001b[39m#NAME ERROR\u001b[39;00m\n\u001b[0;32m      <a href='vscode-notebook-cell:/c%3A/GitHub/notes/py_intermediate_notes.ipynb#ch0000042?line=1'>2</a>\u001b[0m a \u001b[39m=\u001b[39m \u001b[39m2\u001b[39m\n\u001b[1;32m----> <a href='vscode-notebook-cell:/c%3A/GitHub/notes/py_intermediate_notes.ipynb#ch0000042?line=2'>3</a>\u001b[0m b \u001b[39m=\u001b[39m u\n",
      "\u001b[1;31mNameError\u001b[0m: name 'u' is not defined"
     ]
    }
   ],
   "source": [
    "#NAME ERROR\n",
    "a = 2\n",
    "b = u"
   ]
  },
  {
   "cell_type": "code",
   "execution_count": 28,
   "id": "620bba36",
   "metadata": {},
   "outputs": [
    {
     "ename": "FileNotFoundError",
     "evalue": "[Errno 2] No such file or directory: 'someFile.txt'",
     "output_type": "error",
     "traceback": [
      "\u001b[1;31m---------------------------------------------------------------------------\u001b[0m",
      "\u001b[1;31mFileNotFoundError\u001b[0m                         Traceback (most recent call last)",
      "\u001b[1;32mc:\\GitHub\\notes\\py_intermediate_notes.ipynb Cell 37'\u001b[0m in \u001b[0;36m<cell line: 3>\u001b[1;34m()\u001b[0m\n\u001b[0;32m      <a href='vscode-notebook-cell:/c%3A/GitHub/notes/py_intermediate_notes.ipynb#ch0000043?line=0'>1</a>\u001b[0m \u001b[39m#FILENOTFOUND ERROR\u001b[39;00m\n\u001b[1;32m----> <a href='vscode-notebook-cell:/c%3A/GitHub/notes/py_intermediate_notes.ipynb#ch0000043?line=2'>3</a>\u001b[0m f \u001b[39m=\u001b[39m \u001b[39mopen\u001b[39;49m(\u001b[39m\"\u001b[39;49m\u001b[39msomeFile.txt\u001b[39;49m\u001b[39m\"\u001b[39;49m)\n",
      "\u001b[1;31mFileNotFoundError\u001b[0m: [Errno 2] No such file or directory: 'someFile.txt'"
     ]
    }
   ],
   "source": [
    "#FILENOTFOUND ERROR\n",
    "\n",
    "f = open(\"someFile.txt\")"
   ]
  },
  {
   "cell_type": "code",
   "execution_count": 29,
   "id": "4fa44b19",
   "metadata": {},
   "outputs": [
    {
     "ename": "ValueError",
     "evalue": "list.remove(x): x not in list",
     "output_type": "error",
     "traceback": [
      "\u001b[1;31m---------------------------------------------------------------------------\u001b[0m",
      "\u001b[1;31mValueError\u001b[0m                                Traceback (most recent call last)",
      "\u001b[1;32mc:\\GitHub\\notes\\py_intermediate_notes.ipynb Cell 38'\u001b[0m in \u001b[0;36m<cell line: 3>\u001b[1;34m()\u001b[0m\n\u001b[0;32m      <a href='vscode-notebook-cell:/c%3A/GitHub/notes/py_intermediate_notes.ipynb#ch0000044?line=0'>1</a>\u001b[0m \u001b[39m# VALUE ERROR\u001b[39;00m\n\u001b[0;32m      <a href='vscode-notebook-cell:/c%3A/GitHub/notes/py_intermediate_notes.ipynb#ch0000044?line=1'>2</a>\u001b[0m a \u001b[39m=\u001b[39m [\u001b[39m1\u001b[39m,\u001b[39m3\u001b[39m,\u001b[39m2\u001b[39m]\n\u001b[1;32m----> <a href='vscode-notebook-cell:/c%3A/GitHub/notes/py_intermediate_notes.ipynb#ch0000044?line=2'>3</a>\u001b[0m a\u001b[39m.\u001b[39;49mremove(\u001b[39m5\u001b[39;49m)\n",
      "\u001b[1;31mValueError\u001b[0m: list.remove(x): x not in list"
     ]
    }
   ],
   "source": [
    "#VALUE ERROR\n",
    "a = [1,3,2]\n",
    "a.remove(5)"
   ]
  },
  {
   "cell_type": "code",
   "execution_count": 30,
   "id": "30cce958",
   "metadata": {},
   "outputs": [
    {
     "ename": "IndexError",
     "evalue": "list index out of range",
     "output_type": "error",
     "traceback": [
      "\u001b[1;31m---------------------------------------------------------------------------\u001b[0m",
      "\u001b[1;31mIndexError\u001b[0m                                Traceback (most recent call last)",
      "\u001b[1;32mc:\\GitHub\\notes\\py_intermediate_notes.ipynb Cell 39'\u001b[0m in \u001b[0;36m<cell line: 3>\u001b[1;34m()\u001b[0m\n\u001b[0;32m      <a href='vscode-notebook-cell:/c%3A/GitHub/notes/py_intermediate_notes.ipynb#ch0000045?line=0'>1</a>\u001b[0m \u001b[39m#INDEX ERROR\u001b[39;00m\n\u001b[0;32m      <a href='vscode-notebook-cell:/c%3A/GitHub/notes/py_intermediate_notes.ipynb#ch0000045?line=1'>2</a>\u001b[0m A \u001b[39m=\u001b[39m [\u001b[39m1\u001b[39m,\u001b[39m2\u001b[39m,\u001b[39m3\u001b[39m]\n\u001b[1;32m----> <a href='vscode-notebook-cell:/c%3A/GitHub/notes/py_intermediate_notes.ipynb#ch0000045?line=2'>3</a>\u001b[0m \u001b[39mprint\u001b[39m(A[\u001b[39m8\u001b[39;49m])\n",
      "\u001b[1;31mIndexError\u001b[0m: list index out of range"
     ]
    }
   ],
   "source": [
    "#INDEX ERROR\n",
    "A = [1,2,3]\n",
    "print(A[8])"
   ]
  },
  {
   "cell_type": "code",
   "execution_count": 31,
   "id": "dbc0f463",
   "metadata": {},
   "outputs": [
    {
     "ename": "KeyError",
     "evalue": "'email'",
     "output_type": "error",
     "traceback": [
      "\u001b[1;31m---------------------------------------------------------------------------\u001b[0m",
      "\u001b[1;31mKeyError\u001b[0m                                  Traceback (most recent call last)",
      "\u001b[1;32mc:\\GitHub\\notes\\py_intermediate_notes.ipynb Cell 40'\u001b[0m in \u001b[0;36m<cell line: 3>\u001b[1;34m()\u001b[0m\n\u001b[0;32m      <a href='vscode-notebook-cell:/c%3A/GitHub/notes/py_intermediate_notes.ipynb#ch0000046?line=0'>1</a>\u001b[0m \u001b[39m#KEY ERROR\u001b[39;00m\n\u001b[0;32m      <a href='vscode-notebook-cell:/c%3A/GitHub/notes/py_intermediate_notes.ipynb#ch0000046?line=1'>2</a>\u001b[0m a \u001b[39m=\u001b[39m \u001b[39mdict\u001b[39m(name\u001b[39m=\u001b[39m \u001b[39m'\u001b[39m\u001b[39mbhuvan\u001b[39m\u001b[39m'\u001b[39m, age\u001b[39m=\u001b[39m\u001b[39m23\u001b[39m)\n\u001b[1;32m----> <a href='vscode-notebook-cell:/c%3A/GitHub/notes/py_intermediate_notes.ipynb#ch0000046?line=2'>3</a>\u001b[0m \u001b[39mprint\u001b[39m(a[\u001b[39m'\u001b[39;49m\u001b[39memail\u001b[39;49m\u001b[39m'\u001b[39;49m])\n",
      "\u001b[1;31mKeyError\u001b[0m: 'email'"
     ]
    }
   ],
   "source": [
    "#KEY ERROR\n",
    "a = dict(name= 'bhuvan', age=23)\n",
    "print(a['email'])"
   ]
  },
  {
   "cell_type": "code",
   "execution_count": 33,
   "id": "32c086e4",
   "metadata": {},
   "outputs": [
    {
     "ename": "Exception",
     "evalue": "x should be positive",
     "output_type": "error",
     "traceback": [
      "\u001b[1;31m---------------------------------------------------------------------------\u001b[0m",
      "\u001b[1;31mException\u001b[0m                                 Traceback (most recent call last)",
      "\u001b[1;32mc:\\GitHub\\notes\\py_intermediate_notes.ipynb Cell 41'\u001b[0m in \u001b[0;36m<cell line: 3>\u001b[1;34m()\u001b[0m\n\u001b[0;32m      <a href='vscode-notebook-cell:/c%3A/GitHub/notes/py_intermediate_notes.ipynb#ch0000047?line=1'>2</a>\u001b[0m x \u001b[39m=\u001b[39m \u001b[39m-\u001b[39m\u001b[39m5\u001b[39m\n\u001b[0;32m      <a href='vscode-notebook-cell:/c%3A/GitHub/notes/py_intermediate_notes.ipynb#ch0000047?line=2'>3</a>\u001b[0m \u001b[39mif\u001b[39;00m x \u001b[39m<\u001b[39m \u001b[39m0\u001b[39m:\n\u001b[1;32m----> <a href='vscode-notebook-cell:/c%3A/GitHub/notes/py_intermediate_notes.ipynb#ch0000047?line=3'>4</a>\u001b[0m     \u001b[39mraise\u001b[39;00m \u001b[39mException\u001b[39;00m(\u001b[39m\"\u001b[39m\u001b[39mx should be positive\u001b[39m\u001b[39m\"\u001b[39m)\n",
      "\u001b[1;31mException\u001b[0m: x should be positive"
     ]
    }
   ],
   "source": [
    "#raising an exception\n",
    "x = -5\n",
    "if x < 0:\n",
    "    raise Exception(\"x should be positive\")"
   ]
  },
  {
   "cell_type": "code",
   "execution_count": 34,
   "id": "be1ed21d",
   "metadata": {},
   "outputs": [
    {
     "ename": "AssertionError",
     "evalue": "x is negative",
     "output_type": "error",
     "traceback": [
      "\u001b[1;31m---------------------------------------------------------------------------\u001b[0m",
      "\u001b[1;31mAssertionError\u001b[0m                            Traceback (most recent call last)",
      "\u001b[1;32mc:\\GitHub\\notes\\py_intermediate_notes.ipynb Cell 42'\u001b[0m in \u001b[0;36m<cell line: 3>\u001b[1;34m()\u001b[0m\n\u001b[0;32m      <a href='vscode-notebook-cell:/c%3A/GitHub/notes/py_intermediate_notes.ipynb#ch0000048?line=0'>1</a>\u001b[0m \u001b[39m#ASSERTION ERROR\u001b[39;00m\n\u001b[0;32m      <a href='vscode-notebook-cell:/c%3A/GitHub/notes/py_intermediate_notes.ipynb#ch0000048?line=1'>2</a>\u001b[0m x \u001b[39m=\u001b[39m \u001b[39m-\u001b[39m\u001b[39m5\u001b[39m\n\u001b[1;32m----> <a href='vscode-notebook-cell:/c%3A/GitHub/notes/py_intermediate_notes.ipynb#ch0000048?line=2'>3</a>\u001b[0m \u001b[39massert\u001b[39;00m(x\u001b[39m>\u001b[39m\u001b[39m=\u001b[39m\u001b[39m0\u001b[39m), \u001b[39m\"\u001b[39m\u001b[39mx is negative\u001b[39m\u001b[39m\"\u001b[39m\n",
      "\u001b[1;31mAssertionError\u001b[0m: x is negative"
     ]
    }
   ],
   "source": [
    "#ASSERTION ERROR\n",
    "x = -5\n",
    "assert(x>=0), \"x is negative\""
   ]
  },
  {
   "cell_type": "code",
   "execution_count": null,
   "id": "5751bb73",
   "metadata": {},
   "outputs": [],
   "source": [
    "#CATCHING THE EXCEPTIONS\n",
    "try:\n",
    "    x = 4/0\n",
    "    b = 2 + '10'\n",
    "except ZeroDivisionError as e:\n",
    "    print(e)\n",
    "except TypeError as e:\n",
    "    print(e)\n",
    "else:\n",
    "    print('everything runs fine')\n",
    "finally:\n",
    "    print(\"runs regardless of exceptions are thrown are not\")"
   ]
  },
  {
   "cell_type": "code",
   "execution_count": null,
   "id": "0d419af4",
   "metadata": {},
   "outputs": [],
   "source": [
    "#DEFINING THE OWN EXCEPTIONS\n",
    "class NotEvenError(Exception):\n",
    "    pass\n",
    "class NotPositiveNumber(Exception):\n",
    "    def __init__(self, msg, value):\n",
    "        self.msg = msg\n",
    "        self.value = value\n",
    "\n",
    "def testfunc(a):\n",
    "    if a %2 != 0:\n",
    "        raise NotEvenError('The number is not an even number')\n",
    "    if a < 0:\n",
    "        raise NotPositiveNumber('is a negative number',a)\n",
    "try:\n",
    "    #testfunc(9)\n",
    "    testfunc(-8)\n",
    "except NotEvenError as e:\n",
    "    print(e)\n",
    "except NotPositiveNumber as e:\n",
    "    print(e.value, e.msg)"
   ]
  },
  {
   "cell_type": "markdown",
   "id": "a439524e",
   "metadata": {},
   "source": [
    "## Logging"
   ]
  },
  {
   "cell_type": "code",
   "execution_count": 63,
   "id": "ef5468b6",
   "metadata": {},
   "outputs": [
    {
     "name": "stderr",
     "output_type": "stream",
     "text": [
      "WARNING:root:this is warning level\n",
      "ERROR:root:this is error level\n",
      "CRITICAL:root:this is critical level\n"
     ]
    }
   ],
   "source": [
    "import logging\n",
    "logging.debug(\"this is debug level\")\n",
    "logging.info(\"this is info level\")\n",
    "logging.warning(\"this is warning level\")\n",
    "logging.error(\"this is error level\")\n",
    "logging.critical(\"this is critical level\")\n",
    "\n",
    "#by default, only WARNING level and above is executed"
   ]
  },
  {
   "cell_type": "code",
   "execution_count": null,
   "id": "ab05e17c",
   "metadata": {},
   "outputs": [],
   "source": [
    "import logging\n",
    "logging.basicConfig(level=logging.DEBUG, format='%(asctime)s - %(name)s - %(levelname)s - %(message)s', datefmt = '%d/%m/%y %H:%M:%S')\n",
    "logging.debug(\"this is debug level\")\n",
    "logging.info(\"this is info level\")\n",
    "logging.warning(\"this is warning level\")\n",
    "logging.error(\"this is error level\")\n",
    "logging.critical(\"this is critical level\")\n",
    "\n",
    "#learn more at:\n",
    "# https://docs.python.org/3/library/logging.html#logging.basicConfig for all arguments inside the basicConfig()\n",
    "# https://docs.python.org/3/library/logging.html#logrecord-attributes for all possible formats\n",
    "# https://docs.python.org/3/library/time.html#time.strftime for time string\n",
    "\n",
    "#now this will print in the following format (run logging_test.py to see this)\n",
    "# 18/06/22 14:47:34 - root - DEBUG - this is debug level\n",
    "# 18/06/22 14:47:34 - root - INFO - this is info level\n",
    "# 18/06/22 14:47:34 - root - WARNING - this is warning level\n",
    "# 18/06/22 14:47:34 - root - ERROR - this is error level\n",
    "# 18/06/22 14:47:34 - root - CRITICAL - this is critical level\n",
    "\n",
    "#to print the log in a file\n",
    "# logging.basicConfig(level = logging.DEBUG, filename=\"logFile.log\")\n",
    "# logging.error(\"this is error level\")\n"
   ]
  },
  {
   "cell_type": "code",
   "execution_count": null,
   "id": "ed589519",
   "metadata": {},
   "outputs": [],
   "source": [
    "#CREATING HANDLERS\n",
    "import logging \n",
    "logger = logging.getLogger(__name__)\n",
    "\n",
    "#create handler\n",
    "stream_h = logging.StreamHandler()\n",
    "file_h = logging.FileHandler(\"logFile.log\")\n",
    "\n",
    "#level and format\n",
    "stream_h.setLevel(logging.WARNING)\n",
    "file_h.setLevel(logging.ERROR)\n",
    "\n",
    "formatter = logging.Formatter(\"%(name)s - %(levelname)s - %(message)s\")\n",
    "stream_h.setFormatter(formatter)\n",
    "file_h.setFormatter(formatter)\n",
    "\n",
    "#ad handlers to the logger\n",
    "logger.addHandler(stream_h)\n",
    "logger.addHandler(file_h)\n",
    "\n",
    "#print log\n",
    "logger.warning(\"this is warning\")\n",
    "logger.error(\"this is error\")"
   ]
  },
  {
   "cell_type": "code",
   "execution_count": null,
   "id": "2ebcec3a",
   "metadata": {},
   "outputs": [],
   "source": [
    "# LOGGER using fileConfig()\n",
    "\n",
    "#logging.conf file\n",
    "[loggers]\n",
    "keys = root, myLogger\n",
    "\n",
    "[handlers]\n",
    "keys = consoleHandler\n",
    "\n",
    "[formatters]\n",
    "keys = myFormatter\n",
    "\n",
    "[logger_root]\n",
    "level = DEBUG\n",
    "handlers = consoleHandler\n",
    "\n",
    "[logger_myLogger]\n",
    "level = DEBUG\n",
    "handlers = consoleHandler\n",
    "qualname = logger_myLogger\n",
    "propagate = 0\n",
    "\n",
    "[handler_consoleHandler]\n",
    "class = StreamHandler\n",
    "level = DEBUG\n",
    "formatter = myFormatter\n",
    "args = (sys.stdout,)\n",
    "\n",
    "[formatter_myFormatter]\n",
    "format = %(asctime)s - %(name)s - %(levelname)s - %(message)s\n",
    "\n",
    "#fileConfig_logger.py file\n",
    "import logging\n",
    "import logging.config\n",
    "\n",
    "#call the format file\n",
    "logging.config.fileConfig(\"logging.conf\")\n",
    "\n",
    "logger = logging.getLogger('myLogger')\n",
    "\n",
    "logger.debug(\"this is debug\")"
   ]
  },
  {
   "cell_type": "code",
   "execution_count": 69,
   "id": "2505b9e0",
   "metadata": {},
   "outputs": [
    {
     "name": "stderr",
     "output_type": "stream",
     "text": [
      "ERROR:root:the error is Traceback (most recent call last):\n",
      "  File \"C:\\Users\\Bhuvan Bharath T\\AppData\\Local\\Temp\\ipykernel_11144\\3387099836.py\", line 6, in <cell line: 4>\n",
      "    print(a[5])\n",
      "IndexError: list index out of range\n",
      "\n"
     ]
    }
   ],
   "source": [
    "#to include the traceback info\n",
    "\n",
    "import logging\n",
    "import traceback\n",
    "\n",
    "try:\n",
    "    a = [3,5,2]\n",
    "    print(a[5])\n",
    "except:\n",
    "    logging.error(\"the error is %s\", traceback.format_exc())"
   ]
  },
  {
   "cell_type": "code",
   "execution_count": null,
   "id": "bf405001",
   "metadata": {},
   "outputs": [],
   "source": [
    "# RotatingFileHandlers\n",
    "#this is used to set the size limit for each log file, so that if it reaches the limit, then new log file will be created\n",
    "\n",
    "import logging\n",
    "\n",
    "from logging.handlers import RotatingFileHandler\n",
    "\n",
    "logger = logging.getLogger(__name__)\n",
    "logger.setLevel(logging.DEBUG)\n",
    "\n",
    "handler = RotatingFileHandler('app.log', maxBytes=2000, backupCount=10)   #maxBytes is the size limit for log file | backupCount is the limit for no. of files\n",
    "logger.addHandler(handler)\n",
    "\n",
    "[logger.info(\"this is info\") for _ in range(100000)]"
   ]
  },
  {
   "cell_type": "code",
   "execution_count": null,
   "id": "e7f34063",
   "metadata": {},
   "outputs": [],
   "source": [
    "# TimedRotatingFileHandlers\n",
    "#used to backup the log file based on timing\n",
    "\n",
    "from cgitb import handler\n",
    "import logging \n",
    "from logging.handlers import TimedRotatingFileHandler\n",
    "import time\n",
    "\n",
    "logger = logging.getLogger(__name__)\n",
    "logger.setLevel(logging.DEBUG)\n",
    "\n",
    "# --- allowed keys for 'when' ---\n",
    "# second (s)\n",
    "# minute (m)\n",
    "# hour (h)\n",
    "# day (d)\n",
    "# w0-w6 (weekday, 0=Monday)\n",
    "# midnight\n",
    "handler = TimedRotatingFileHandler('app.log', when ='s', interval=2, backupCount=5)\n",
    "\n",
    "logger.addHandler(handler)\n",
    "for _ in range(5):\n",
    "    logger.info(\"this is info\")\n",
    "    logger.info(\"this is info2\")\n",
    "    time.sleep(5)"
   ]
  },
  {
   "cell_type": "markdown",
   "id": "ccc7ffb8",
   "metadata": {},
   "source": [
    "## JSON"
   ]
  },
  {
   "cell_type": "code",
   "execution_count": 103,
   "id": "f10401c9",
   "metadata": {},
   "outputs": [
    {
     "name": "stdout",
     "output_type": "stream",
     "text": [
      "<__main__.User object at 0x00000175695D4190>\n",
      "max\n"
     ]
    }
   ],
   "source": [
    "import json\n",
    "\n",
    "person = {\"name\": \"bhuvan\", \"age\": 23, \"location\": \"TamilNadu\", \"title\":[\"developer\",\"solution developer\"], 'married': False}\n",
    "\n",
    "#--- PYTHON to JSON in console ---\n",
    "personJson = json.dumps(person, indent=4, sort_keys=True)   #indent to format   #separators to change the default separators    #sort_keys to sort by keys\n",
    "#print(personJson)\n",
    "\n",
    "#--- PYTHON to JSON in file ---\n",
    "with open('person.json','w') as file:\n",
    "    json.dump(person, file, indent=4)\n",
    "\n",
    "#--- JSON to PYTHON in console ---\n",
    "#writing to console\n",
    "person = json.loads(personJson)\n",
    "#print(person)\n",
    "\n",
    "#--- JSON to PYTHON from file ---\n",
    "with open('person.json', 'r') as file:\n",
    "    person = json.load(file)\n",
    "    #print(person)\n",
    "\n",
    "#--- CUSTOM CLASS to JSON ---\n",
    "class User:\n",
    "    def __init__(self, name, age):\n",
    "        self.name = name\n",
    "        self.age = age\n",
    "\n",
    "#ENCODER\n",
    "def EncodeUser(obj):\n",
    "    if isinstance (obj, User):\n",
    "        return {\"name\": obj.name, \"age\":obj.age, obj.__class__.__name__: True}  #\"obj.__class__.__name__: True\" is used to write the class name as a key\n",
    "    else:\n",
    "        raise TypeError(\"Obj is not the instance of user\")\n",
    "\n",
    "user = User('max', 24)\n",
    "#userJson = json.dumps(user, default=EncodeUser)\n",
    "#print(userJson)\n",
    "\n",
    "\n",
    "#creating ENCODER from JSON module\n",
    "from json import JSONEncoder\n",
    "\n",
    "class UserEncoder(JSONEncoder):\n",
    "    def default(self, obj):\n",
    "        if isinstance (obj, User):\n",
    "            return {\"name\": obj.name, \"age\":obj.age, obj.__class__.__name__: True}  #\"obj.__class__.__name__: True\" is used to write the class name as a key\n",
    "        else:\n",
    "            return JSONEncoder.default(self, user)\n",
    "\n",
    "userJson = json.dumps(user, cls= UserEncoder)   #or userJson = UserEncoder().encode(user)\n",
    "#print(userJson)\n",
    "\n",
    "#writing a DECODER\n",
    "def UserDecoder(dct):\n",
    "    if User.__name__ in dct:\n",
    "        return User(name=dct['name'], age = dct['age'])\n",
    "    else:\n",
    "        return dct\n",
    "\n",
    "user = json.loads(userJson, object_hook=UserDecoder)\n",
    "print(user)\n",
    "print(user.name)\n"
   ]
  },
  {
   "cell_type": "markdown",
   "id": "ac91ae14",
   "metadata": {},
   "source": [
    "## Random Numbers"
   ]
  },
  {
   "cell_type": "code",
   "execution_count": 122,
   "id": "d120ea38",
   "metadata": {},
   "outputs": [
    {
     "name": "stdout",
     "output_type": "stream",
     "text": [
      "0.4393002029267048\n",
      "1.522273948125121\n",
      "1\n",
      "49.60943196766978\n",
      "my\n",
      "['fren', 'bhuvan', 'my']\n",
      "['my', 'bharath', 'my']\n",
      "['bhuvan', 'fren', 'my', 'bharath', 'hello']\n"
     ]
    }
   ],
   "source": [
    "import random\n",
    "\n",
    "#random FLOAT between 0 to 1\n",
    "a = random.random()\n",
    "print(a)\n",
    "\n",
    "#random FLOAT between specific range\n",
    "a = random.uniform(1,10)\n",
    "print(a)\n",
    "\n",
    "#random INT between specific range\n",
    "a = random.randint(1,20)\n",
    "print(a)\n",
    "\n",
    "#random normalVariate\n",
    "#first argument = mean | second argument = standard deviation value\n",
    "a = random.normalvariate(50, 5) #returns the floating value bw 45 and 55\n",
    "print(a)\n",
    "\n",
    "#random element from a list\n",
    "list_rand = [\"bhuvan\", \"bharath\", \"hello\", \"my\", \"fren\"]\n",
    "a = random.choice(list_rand)    #to pick one element\n",
    "print(a)\n",
    "a_unique = random.sample(list_rand, 3)    #to pick multiple UNIQUE elements\n",
    "print(a_unique)\n",
    "a_choices = random.choices(list_rand,k=3)   #to pick multiple elements with repetition\n",
    "print(a_choices)\n",
    "\n",
    "#shuffle\n",
    "random.shuffle(list_rand)\n",
    "print(list_rand)"
   ]
  },
  {
   "cell_type": "code",
   "execution_count": 269,
   "id": "635d519a",
   "metadata": {},
   "outputs": [
    {
     "name": "stdout",
     "output_type": "stream",
     "text": [
      "11\n",
      "2\n",
      "bharath\n"
     ]
    }
   ],
   "source": [
    "#secrets\n",
    "#to generate true random numbers\n",
    "import secrets\n",
    "\n",
    "a = secrets.randbelow(20)   #to generate a random number below 20\n",
    "print(a)\n",
    "a = secrets.randbits(3)     #print bw 0 to 8 (excluding 8) [2 to the power of 3 = 8]\n",
    "print(a)\n",
    "a = secrets.choice(list_rand)   #to pick a true random element from a list\n",
    "print(a)"
   ]
  },
  {
   "cell_type": "code",
   "execution_count": 273,
   "id": "2141d7bf",
   "metadata": {},
   "outputs": [
    {
     "name": "stdout",
     "output_type": "stream",
     "text": [
      "[[8 1]\n",
      " [5 0]\n",
      " [9 6]]\n",
      "shuffled array\n",
      "[[5 0]\n",
      " [9 6]\n",
      " [8 1]]\n"
     ]
    }
   ],
   "source": [
    "#numpy random \n",
    "#used to create an array of random numbers\n",
    "import numpy as np\n",
    "\n",
    "a = np.random.randint(0, 10, (3,2))    #first argument = min. range value  #second argument = max. range value  #third argument = array size\n",
    "print(a) \n",
    "\n",
    "#shuffling\n",
    "np.random.shuffle(a)    #shuffles only the higher level elements, not the lower level ones\n",
    "print(\"shuffled array\")\n",
    "print(a)"
   ]
  },
  {
   "cell_type": "markdown",
   "id": "12626d1e",
   "metadata": {},
   "source": [
    "## Decorators\n",
    "\n",
    "Decorator is function that takes another function and extend its functionality without explicitly modifying it.\n",
    "\n",
    "### Function Decorators\n",
    "* Functions in python are first class objects and like any other object it can be defined under other function, passed into another function, returned from another function.\n",
    "* A decorator is a function that takes another function as an argument and wraps its behavior inside another function and returns the wrapped function.\n"
   ]
  },
  {
   "cell_type": "code",
   "execution_count": 299,
   "id": "192fb239",
   "metadata": {},
   "outputs": [
    {
     "name": "stdout",
     "output_type": "stream",
     "text": [
      "start\n",
      "bhuvan\n",
      "end\n",
      "\n",
      "start\n",
      "result inside decorator: 11\n",
      "end\n",
      "11\n",
      "\n",
      "func name: wrapper\n",
      "Help on function wrapper in module __main__:\n",
      "\n",
      "wrapper(*args, **kwargs)\n",
      "\n"
     ]
    }
   ],
   "source": [
    "#EXAMPLE#\n",
    "\n",
    "def start_end_decorator(func):\n",
    "    def wrapper():\n",
    "        print('start')\n",
    "        func()\n",
    "        print('end')\n",
    "    return wrapper\n",
    "\n",
    "# def printName():\n",
    "#     print('bhuvan')\n",
    "\n",
    "# printName()\n",
    "# print()\n",
    "\n",
    "# printName = start_end_decorator(printName)\n",
    "# printName()\n",
    "\n",
    "#--- Decorator syntax ---#\n",
    "@start_end_decorator\n",
    "def printName():\n",
    "    print('bhuvan')\n",
    "printName()\n",
    "print() #print a newline\n",
    "\n",
    "#--- Function Arguments ---#\n",
    "def start_end_decorator_2(func):\n",
    "    def wrapper(*args, **kwargs):   #arguments and keyword arguments\n",
    "        print('start')\n",
    "        result = func(*args, **kwargs)\n",
    "        print(f'result inside decorator: {result}')\n",
    "        print('end')\n",
    "        return result\n",
    "    return wrapper\n",
    "\n",
    "@start_end_decorator_2\n",
    "def add_5(a):\n",
    "    return a+5\n",
    "\n",
    "print(add_5(6))\n",
    "\n",
    "#python will think that our function is a wrapped function inside that decorator function and it can be checked by,\n",
    "print()\n",
    "print(f'func name: {add_5.__name__}')\n",
    "help(add_5)\n"
   ]
  },
  {
   "cell_type": "code",
   "execution_count": 298,
   "id": "43f4d858",
   "metadata": {},
   "outputs": [
    {
     "name": "stdout",
     "output_type": "stream",
     "text": [
      "func name: add_5\n",
      "Help on function add_5 in module __main__:\n",
      "\n",
      "add_5(a)\n",
      "\n"
     ]
    }
   ],
   "source": [
    "#Function identity\n",
    "#the above problem can be fixed by adding the \"functools.wraps\" decorator, which will preserve the info about the original function.\n",
    "import functools\n",
    "def start_end_decorator_3(func):\n",
    "    @functools.wraps(func)\n",
    "    def wrapper(*args, **kwargs):   #arguments and keyword arguments\n",
    "        #print('start')\n",
    "        result = func(*args, **kwargs)\n",
    "        #print(f'result inside decorator: {result}')\n",
    "        #print('end')\n",
    "        return result\n",
    "    return wrapper\n",
    "\n",
    "@start_end_decorator_3\n",
    "def add_5(a):\n",
    "    return a+5\n",
    "\n",
    "res = add_5(6)\n",
    "\n",
    "print(f'func name: {add_5.__name__}')\n",
    "help(add_5)\n"
   ]
  },
  {
   "cell_type": "code",
   "execution_count": 300,
   "id": "caece0b9",
   "metadata": {},
   "outputs": [],
   "source": [
    "#--- DECORATOR TEMPLATE ---\n",
    "import functools\n",
    "\n",
    "def my_decorator(func):\n",
    "    @functools.wraps(func)\n",
    "    def wrapper(*args, **kwargs):\n",
    "        # Do something before\n",
    "        result = func(*args, **kwargs)\n",
    "        # Do something after\n",
    "        return result\n",
    "    return wrapper"
   ]
  },
  {
   "cell_type": "code",
   "execution_count": 302,
   "id": "fe6af436",
   "metadata": {},
   "outputs": [
    {
     "name": "stdout",
     "output_type": "stream",
     "text": [
      "Hello bhuvan\n",
      "Hello bhuvan\n",
      "Hello bhuvan\n"
     ]
    }
   ],
   "source": [
    "#Decorator arguments\n",
    "#the decorator can itself take an input argument.\n",
    "\n",
    "def repeat(num_times):\n",
    "    def decorator_repeat(func):\n",
    "        @functools.wraps(func)\n",
    "        def wrapper(*args, **kwargs):\n",
    "            for _ in range(num_times):\n",
    "                result = func(*args, **kwargs)\n",
    "            return result\n",
    "        return wrapper\n",
    "    return decorator_repeat\n",
    "\n",
    "@repeat(num_times=3)\n",
    "def greet(name):\n",
    "    print(f\"Hello {name}\")\n",
    "    \n",
    "greet('bhuvan')"
   ]
  },
  {
   "cell_type": "markdown",
   "id": "b4e0f643",
   "metadata": {},
   "source": [
    "## Generators\n",
    "\n",
    "* Generators are the functions that can be paused and resumed on the fly, returning an object that can be iterated over. Unlike list, they produce items one at a time and only when asked. \n",
    "* Hence they are much more memory efficient than lists.\n",
    "* The Generators are defined like a normal function but with a `yield` instead of `return`."
   ]
  },
  {
   "cell_type": "code",
   "execution_count": 13,
   "id": "bc4badd8",
   "metadata": {},
   "outputs": [
    {
     "name": "stdout",
     "output_type": "stream",
     "text": [
      "first yield: 1\n",
      "second yield: 2\n",
      "third yield: 3\n",
      "0\n",
      "[]\n",
      "starting\n",
      "5\n",
      "4\n",
      "3\n",
      "2\n",
      "1\n"
     ]
    },
    {
     "ename": "StopIteration",
     "evalue": "",
     "output_type": "error",
     "traceback": [
      "\u001b[1;31m---------------------------------------------------------------------------\u001b[0m",
      "\u001b[1;31mStopIteration\u001b[0m                             Traceback (most recent call last)",
      "\u001b[1;32md:\\Repos\\notes\\py_intermediate_notes.ipynb Cell 64'\u001b[0m in \u001b[0;36m<cell line: 41>\u001b[1;34m()\u001b[0m\n\u001b[0;32m     <a href='vscode-notebook-cell:/d%3A/Repos/notes/py_intermediate_notes.ipynb#ch0000064?line=38'>39</a>\u001b[0m \u001b[39mprint\u001b[39m(\u001b[39mnext\u001b[39m(cd))\n\u001b[0;32m     <a href='vscode-notebook-cell:/d%3A/Repos/notes/py_intermediate_notes.ipynb#ch0000064?line=39'>40</a>\u001b[0m \u001b[39m#this will raise stop iteration\u001b[39;00m\n\u001b[1;32m---> <a href='vscode-notebook-cell:/d%3A/Repos/notes/py_intermediate_notes.ipynb#ch0000064?line=40'>41</a>\u001b[0m \u001b[39mprint\u001b[39m(\u001b[39mnext\u001b[39;49m(cd))\n",
      "\u001b[1;31mStopIteration\u001b[0m: "
     ]
    }
   ],
   "source": [
    "def genFunc():\n",
    "    yield 1\n",
    "    yield 2\n",
    "    yield 3\n",
    "\n",
    "g = genFunc()   #this is just a declaration, hence never runs the function. the function will be executed only while manipulating the 'g' object.\n",
    "\n",
    "# for i in g:\n",
    "#     print(i)\n",
    "\n",
    "#execute until first yield\n",
    "value = next(g)\n",
    "print(f'first yield: {value}')\n",
    "#execute until next yield\n",
    "value = next(g)\n",
    "print(f'second yield: {value}')\n",
    "#execute until next yield\n",
    "value = next(g)\n",
    "print(f'third yield: {value}')\n",
    "\n",
    "#sum\n",
    "print(sum(g))   #note: since the g is already ran above, this call returns nothing.\n",
    "\n",
    "#sorted\n",
    "print(sorted(g))\n",
    "\n",
    "#--- EXECUTION OF COUNTDOWN GENERATOR ---\n",
    "def countDown(num):\n",
    "    print('starting')\n",
    "    while num>0:\n",
    "        yield num\n",
    "        num-=1\n",
    "\n",
    "cd = countDown(5)   #this will not print 'starting'\n",
    "print(next(cd))     #this will print 'starting'\n",
    "print(next(cd))\n",
    "print(next(cd))\n",
    "print(next(cd))\n",
    "print(next(cd))\n",
    "#this will raise stop iteration\n",
    "print(next(cd))"
   ]
  },
  {
   "cell_type": "code",
   "execution_count": 22,
   "id": "17be9bab",
   "metadata": {},
   "outputs": [
    {
     "name": "stdout",
     "output_type": "stream",
     "text": [
      "499500\n",
      "memory size using list in bytes = 8856\n",
      "499500\n",
      "memory size using generator in bytes = 104\n"
     ]
    }
   ],
   "source": [
    "#GENERATORS are more memory efficient.\n",
    "import sys\n",
    "\n",
    "#suppose if we want to calculate the sum of all number from 1 to 1000, there are two way to do it.\n",
    "\n",
    "#1. normal function that returns a list\n",
    "def sumOfN(n):\n",
    "    nums =[]\n",
    "    num = 0\n",
    "    while num<n:\n",
    "        nums.append(num)\n",
    "        num+=1\n",
    "    return nums\n",
    "\n",
    "print(sum(sumOfN(1000)))\n",
    "print(f\"memory size using list in bytes = {sys.getsizeof(sumOfN(1000))}\")\n",
    "\n",
    "#2. using generator\n",
    "def sumOfN_gen(n):\n",
    "    #here no need for any list\n",
    "    num = 0\n",
    "    while num<n:\n",
    "        yield num\n",
    "        num+=1\n",
    "\n",
    "print(sum(sumOfN(1000)))\n",
    "print(f\"memory size using generator in bytes = {sys.getsizeof(sumOfN_gen(1000))}\")\n"
   ]
  },
  {
   "cell_type": "code",
   "execution_count": 27,
   "id": "943ca319",
   "metadata": {},
   "outputs": [
    {
     "name": "stdout",
     "output_type": "stream",
     "text": [
      "0\n",
      "1\n",
      "1\n",
      "2\n",
      "3\n",
      "5\n",
      "8\n",
      "13\n",
      "21\n",
      "34\n"
     ]
    }
   ],
   "source": [
    "#fibonacci using generator\n",
    "def fibonacci(limit):\n",
    "    #fibonacci seq: 0 1 1 2 3 5 8 13 ...\n",
    "    a, b = 0,1  #first two numbers\n",
    "    while a < limit:\n",
    "        yield a\n",
    "        a,b = b, a+b\n",
    "    \n",
    "fib = fibonacci(50)\n",
    "for i in fib:\n",
    "    print(i)"
   ]
  },
  {
   "cell_type": "code",
   "execution_count": 28,
   "id": "fd0649c4",
   "metadata": {},
   "outputs": [
    {
     "name": "stdout",
     "output_type": "stream",
     "text": [
      "[0, 2, 4, 6, 8]\n"
     ]
    }
   ],
   "source": [
    "#list vs generator\n",
    "\n",
    "#generator used can be defined in one line like list comprehension but with a \"()\" bracket\n",
    "myGenerator = (i for i in range(10) if i%2==0)\n",
    "print(list(myGenerator))"
   ]
  },
  {
   "cell_type": "markdown",
   "id": "e6fb20b9",
   "metadata": {},
   "source": [
    "## Threading vs Multi-processing\n",
    "\n",
    "### Process\n",
    "An instance of a program. (Ex: Python interpreter, Firefox browser)\n",
    "\n",
    "**Advantages:**\n",
    "* Takes advantage of multiple CPUs and cores\n",
    "* Separate memory space - memory is not shared between processes\n",
    "* New process is started independently from the other process\n",
    "* Processes are interruptable/killable\n",
    "* Great for CPU-bound processing\n",
    "\n",
    "**Disadvantages:**\n",
    "* Heavyweight\n",
    "* Starting a process is slower than starting a thread\n",
    "* Since processes have separate memory space, it takes up more memory\n",
    "\n",
    "### Thread\n",
    "An entity within a process that can be scheduled. (also known as \"light weight process\"). A process can spawn multiple threads.\n",
    "\n",
    "**Advantages:**\n",
    "* All threads within the process share the same memory.\n",
    "* Great for I/O bounding tasks.\n",
    "* It is faster to start a thread than starting a process.\n",
    "\n",
    "**Disadvantages:**\n",
    "* Not iterupptable/Killable\n",
    "* No effect for CPU-bound tasks"
   ]
  },
  {
   "cell_type": "code",
   "execution_count": 2,
   "id": "091a65d4",
   "metadata": {},
   "outputs": [],
   "source": [
    "### EXAMPLES ###\n",
    "\n",
    "#PROCESSING\n",
    "\n",
    "from multiprocessing import Process\n",
    "import os,  time\n",
    "\n",
    "processes = []\n",
    "num_processes = os.cpu_count()\n",
    "\n",
    "#sample function\n",
    "def squareNums():\n",
    "    2 * 2\n",
    "    time.sleep(0.1)\n",
    "\n",
    "#creating process\n",
    "for i in range(num_processes):\n",
    "    p = Process(target=squareNums)\n",
    "    processes.append(p)\n",
    "\n",
    "#start\n",
    "for p in processes:\n",
    "    p.start()\n",
    "\n",
    "#to make the program wait until the process is complete.\n",
    "for p in processes:\n",
    "    p.join()\n",
    "    \n",
    "#THREADING\n",
    "\n",
    "from threading import Thread\n",
    "\n",
    "threads = []\n",
    "num_threads = 10\n",
    "\n",
    "#creating threads\n",
    "for i in range(num_threads):\n",
    "    t = Thread(target = squareNums)\n",
    "    threads.append(t)\n",
    "\n",
    "#start\n",
    "for t in threads:\n",
    "    t.start()\n",
    "\n",
    "#join\n",
    "#used to make the main thread block and wait until this thread is executed.\n",
    "for t in threads:\n",
    "    t.join()"
   ]
  },
  {
   "cell_type": "markdown",
   "id": "d399bdf7",
   "metadata": {},
   "source": [
    "## Multi-threading \n",
    "\n",
    "### Race condition:\n",
    "It occurs when two threads try to modify the same variable simultaneously. It can be prevented by using **Locks** in the Python.\n",
    "\n",
    "An example of Multi-thread process that tries to modify the database value:"
   ]
  },
  {
   "cell_type": "code",
   "execution_count": 9,
   "id": "b6ae472f",
   "metadata": {},
   "outputs": [
    {
     "name": "stdout",
     "output_type": "stream",
     "text": [
      "start value:  0\n",
      "end value:  1\n"
     ]
    }
   ],
   "source": [
    "from threading import Thread\n",
    "import time\n",
    "\n",
    "#global variable\n",
    "#Note: It is just an example of database modification, so only a variable is declared for understanding purpose\n",
    "databaseVal =0\n",
    "\n",
    "#method that gets executed in the thread\n",
    "def increase():\n",
    "    #manipulating the global variable at local\n",
    "    global databaseVal\n",
    "\n",
    "    #get a local copy\n",
    "    local_copy = databaseVal\n",
    "\n",
    "    #simulating the database modification operation\n",
    "    local_copy+=1\n",
    "\n",
    "    #since, sleep is mentioned, the first thread runs until this and sleeps. in the meantime, second thread starts again and modifies the databaseVal which is 0 still (cuz it hasn't been got assigned with the new value yet)\n",
    "    \n",
    "    time.sleep(3) \n",
    "\n",
    "    #again the second thread will sleep and the first thread resumes to assign the 1 to databaseVal. finally second also does the same,\n",
    "\n",
    "    #assigning the modified value back to the global variable\n",
    "    databaseVal = local_copy\n",
    "\n",
    "if __name__ == \"__main__\":\n",
    "    print(\"start value: \",databaseVal)\n",
    "\n",
    "    #creating multiple (here 2) threads\n",
    "    thread1 = Thread(target=increase)\n",
    "    thread2 = Thread(target=increase)\n",
    "\n",
    "    #starting the threads\n",
    "    thread1.start()\n",
    "    thread2.start()\n",
    "\n",
    "    #make the main thread give path to these two threads\n",
    "    thread1.join()\n",
    "    thread2.join()\n",
    "\n",
    "    print(\"end value: \", databaseVal)\n",
    "\n"
   ]
  },
  {
   "cell_type": "markdown",
   "id": "9d2f823f",
   "metadata": {},
   "source": [
    "### Locks:\n",
    "\n",
    "The above problem can be solved by using Locks. \n",
    "\n",
    "* ```lock.acquire()``` will lock the thread until it is released.\n",
    "* ```lock.release()``` will release the thread.\n",
    "* this can also be achieved using ```with``` statement\n",
    "\n",
    "**Example:**\n"
   ]
  },
  {
   "cell_type": "code",
   "execution_count": 17,
   "id": "1e52a36a",
   "metadata": {},
   "outputs": [
    {
     "name": "stdout",
     "output_type": "stream",
     "text": [
      "start value:  0\n",
      "end value:  2\n"
     ]
    }
   ],
   "source": [
    "from threading import Thread, Lock\n",
    "import time\n",
    "\n",
    "databaseVal =0\n",
    "\n",
    "def increase(lock):\n",
    "\n",
    "    lock.acquire()  #locks the thread\n",
    "    global databaseVal\n",
    "    local_copy = databaseVal\n",
    "    local_copy+=1\n",
    "    time.sleep(3) \n",
    "    databaseVal = local_copy\n",
    "    lock.release()  #releases the thread\n",
    "\n",
    "    #now it will take 6 secs to run. (3+3=6)\n",
    "\n",
    "#alternative\n",
    "def increase_using_with(lock):\n",
    "    with lock:\n",
    "        global databaseVal\n",
    "        local_copy = databaseVal\n",
    "        local_copy+=1\n",
    "        time.sleep(3) \n",
    "        databaseVal = local_copy\n",
    "\n",
    "if __name__ == \"__main__\":\n",
    "\n",
    "    lock = Lock()\n",
    "\n",
    "    print(\"start value: \",databaseVal)\n",
    "\n",
    "    thread1 = Thread(target=increase_using_with, args=(lock,))  #eventho single arg, comma is required\n",
    "    thread2 = Thread(target=increase_using_with, args=(lock,))\n",
    "\n",
    "    thread1.start()\n",
    "    thread2.start()\n",
    "\n",
    "    thread1.join()\n",
    "    thread2.join()\n",
    "\n",
    "    print(\"end value: \", databaseVal)"
   ]
  },
  {
   "cell_type": "markdown",
   "id": "4d14ed77",
   "metadata": {},
   "source": [
    "### Using a queue in multi-threading\n",
    "\n",
    "Operations with queue are thread safe  \n",
    "* ```q.get()``` - Remove and Returns the first item\n",
    "* ```q.put()``` - Puts the item at the end of the queue\n",
    "* ```q.task_done()``` - Indicates that the task is complete. For each ```get()``` method, this should be called after the item's task is done\n",
    "* ```q.empty``` - Returns ```true```, if the queue is empty\n",
    "\n"
   ]
  },
  {
   "cell_type": "code",
   "execution_count": 42,
   "id": "53b4dbb5",
   "metadata": {},
   "outputs": [
    {
     "name": "stdout",
     "output_type": "stream",
     "text": [
      "thread: Thread-120 (worker) got 0\n",
      "thread: Thread-122 (worker) got 1\n",
      "thread: Thread-123 (worker) got 2\n",
      "thread: Thread-124 (worker) got 3\n",
      "thread: Thread-121 (worker) got 4\n",
      "thread: Thread-120 (worker) got 5\n",
      "thread: Thread-122 (worker) got 6\n",
      "thread: Thread-123 (worker) got 7\n",
      "thread: Thread-123 (worker) got 12\n",
      "thread: Thread-123 (worker) got 13\n",
      "thread: Thread-123 (worker) got 14\n",
      "thread: Thread-123 (worker) got 15\n",
      "thread: Thread-123 (worker) got 16\n",
      "thread: Thread-123 (worker) got 17\n",
      "thread: Thread-123 (worker) got 18\n",
      "thread: Thread-123 (worker) got 19\n",
      "thread: Thread-124 (worker) got 8\n",
      "thread: Thread-120 (worker) got 10\n",
      "thread: Thread-122 (worker) got 11\n",
      "thread: Thread-121 (worker) got 9\n",
      "end main\n"
     ]
    }
   ],
   "source": [
    "from threading import Thread, Lock, current_thread\n",
    "from queue import Queue\n",
    "\n",
    "def worker(q, lock):\n",
    "    while True:\n",
    "        value = q.get() #gets and remove the value from queue\n",
    "        \n",
    "        with lock:      # prevent printing at the same time with this lock (prevents printing in the same line)\n",
    "            print(f\"thread: {current_thread().name} got {value}\")\n",
    "\n",
    "        #For each get(), a subsequent call to task_done() tells the queue that the processing on this item is complete.\n",
    "        # If all tasks are done, q.join() can unblock\n",
    "        q.task_done() \n",
    "\n",
    "if __name__ == \"__main__\":\n",
    "    q = Queue()\n",
    "    num_threads = 5\n",
    "    lock = Lock()\n",
    "\n",
    "    for i in range (num_threads):\n",
    "        thread = Thread(target=worker, args=(q,lock))\n",
    "        thread.daemon = True #it is False by default        # dies when the main thread dies\n",
    "        thread.start()\n",
    "\n",
    "    #adding values to the queue\n",
    "    for x in range(20):\n",
    "        q.put(x)\n",
    "\n",
    "    q.join()    #blocks until all the items in the queue have been got and printed\n",
    "\n",
    "    print(\"end main\")\n"
   ]
  },
  {
   "cell_type": "markdown",
   "id": "718e83bc",
   "metadata": {},
   "source": [
    "## Multi-processing\n",
    "\n",
    "* Create the process using ```multiprocessing.process()```\n",
    "* It takes two arguments -- ```target```(function) and ```args``` (function's arguments)\n",
    "* Start a process using ```process.start()```\n",
    "* To make the program wait until this process is complete, use ```process.join()```\n",
    "\n",
    "**Sharing the data between processes**\n",
    "\n",
    "Since the processes doesn't share the memory within them like thread, they need *special memory objects* such as ```Value(type, value)``` and ```Array(type, value)```."
   ]
  },
  {
   "cell_type": "code",
   "execution_count": null,
   "id": "79ba9f5f",
   "metadata": {},
   "outputs": [],
   "source": [
    "#try it in .py file\n",
    "\n",
    "from multiprocessing import Process, Value, Array, Lock\n",
    "import time\n",
    "\n",
    "def add_100(number,lock):\n",
    "    for _ in range(100):\n",
    "        time.sleep(0.1)\n",
    "        with lock:\n",
    "            number.value+=1\n",
    "\n",
    "def add_100_array(numbers,lock):\n",
    "    for _ in range(100):\n",
    "        time.sleep(0.1)\n",
    "        with lock:\n",
    "            for i in range(len(numbers)):\n",
    "                numbers[i]+=1\n",
    "\n",
    "if __name__ == \"__main__\":\n",
    "    \n",
    "    shared_number = Value('i', 0)   #'i' for integer\n",
    "    print(\"Start:\", shared_number.value)\n",
    "\n",
    "    shared_array = Array('i', [3, 5, 7, 1, 9])\n",
    "    print('Start:', shared_array[:])\n",
    "\n",
    "    lock = Lock()\n",
    "\n",
    "    process1 = Process(target=add_100, args=(shared_number,lock))\n",
    "    process2 = Process(target=add_100, args=(shared_number,lock))\n",
    "\n",
    "    process3 = Process(target=add_100_array, args=(shared_array,lock))\n",
    "    process4 = Process(target=add_100_array, args=(shared_array,lock))\n",
    "\n",
    "    process1.start()\n",
    "    process2.start()\n",
    "    process3.start()\n",
    "    process4.start()\n",
    "\n",
    "    process1.join()\n",
    "    process2.join()\n",
    "    process3.join()\n",
    "    process4.join()\n",
    "\n",
    "    print('end value: ', shared_number.value)\n",
    "    print('end value: ', shared_array[:])\n",
    " "
   ]
  },
  {
   "cell_type": "markdown",
   "id": "3e957c83",
   "metadata": {},
   "source": [
    "## Function Arguments\n",
    "\n",
    "**Arguments**: These are the variables that are passed while calling the function.\n",
    "**Parameters**: These are the variables within the parenthesis while defining a function.\n",
    "\n",
    "**Function using args and \\*\\*kwargs as a parameter**\n",
    "* *args - positional arguments\n",
    "* **kwargs - keyword arguments"
   ]
  },
  {
   "cell_type": "code",
   "execution_count": 14,
   "id": "a55aba78",
   "metadata": {},
   "outputs": [
    {
     "name": "stdout",
     "output_type": "stream",
     "text": [
      "1 2\n",
      "3\n",
      "4\n",
      "five 5\n",
      "six 6\n"
     ]
    }
   ],
   "source": [
    "def func_(a, b, *args, **kwargs):\n",
    "    print(a,b)\n",
    "    for arg in args:\n",
    "        print(arg)\n",
    "    for key in kwargs:\n",
    "        print(key, kwargs[key])\n",
    "\n",
    "func_(1,2,3,4, five =5, six =6)"
   ]
  },
  {
   "cell_type": "markdown",
   "id": "223cd9d1",
   "metadata": {},
   "source": [
    "Unpacking the arguments:"
   ]
  },
  {
   "cell_type": "code",
   "execution_count": 16,
   "id": "edfdbe1a",
   "metadata": {},
   "outputs": [
    {
     "name": "stdout",
     "output_type": "stream",
     "text": [
      "a b c\n"
     ]
    }
   ],
   "source": [
    "def foo(a,b,c):\n",
    "    print(a,b,c)\n",
    "\n",
    "list_ = [1,2,3] \n",
    "#dict_ = {'a':1, 'b':2, 'c':3}\n",
    "foo(*list_)"
   ]
  },
  {
   "cell_type": "markdown",
   "id": "7e32f4c0",
   "metadata": {},
   "source": [
    "Accessing Global variables:"
   ]
  },
  {
   "cell_type": "code",
   "execution_count": 21,
   "id": "5aca929e",
   "metadata": {},
   "outputs": [
    {
     "name": "stdout",
     "output_type": "stream",
     "text": [
      "3\n"
     ]
    }
   ],
   "source": [
    "def foo():\n",
    "    global number\n",
    "    number = 3\n",
    "\n",
    "number = 0\n",
    "foo()\n",
    "print(number)"
   ]
  },
  {
   "cell_type": "markdown",
   "id": "8f27f2f8",
   "metadata": {},
   "source": [
    "**Global lists**\n",
    "1. Immutable objects such as list(global) can be modified inside a local function using list operations but cannot be totally changed."
   ]
  },
  {
   "cell_type": "code",
   "execution_count": 22,
   "id": "7153c94c",
   "metadata": {},
   "outputs": [
    {
     "name": "stdout",
     "output_type": "stream",
     "text": [
      "400\n",
      "[1, 3, 4]\n"
     ]
    }
   ],
   "source": [
    "def foo(a_list):\n",
    "    a_list = [200, 300, 400]    #doesn't do anything\n",
    "    a_list.append(500)\n",
    "    print(a_list[2])\n",
    "list_ = [1,3,4]\n",
    "foo(list_)\n",
    "print(list_)\n"
   ]
  },
  {
   "cell_type": "markdown",
   "id": "20036a89",
   "metadata": {},
   "source": [
    "## Asterisk operator:\n",
    "\n",
    "### Multiplication and Power operations\n",
    "```py\n",
    "print(2 * 3)    #prints 6\n",
    "```\n",
    "\n",
    "Power operation\n",
    "```py\n",
    "print (2**3)    #prints 8"
   ]
  },
  {
   "cell_type": "markdown",
   "id": "68955404",
   "metadata": {},
   "source": [
    "### Creation of list, tuple, string with repeated elements"
   ]
  },
  {
   "cell_type": "code",
   "execution_count": 4,
   "id": "1a57e026",
   "metadata": {},
   "outputs": [
    {
     "name": "stdout",
     "output_type": "stream",
     "text": [
      "[0, 3, 0, 3, 0, 3]\n",
      "(0, 3, 0, 3, 0, 3)\n",
      "fkfkfkfkfkfk\n"
     ]
    }
   ],
   "source": [
    "#lists\n",
    "list_1 = [0,3]*3\n",
    "print(list_1)\n",
    "\n",
    "#tuples\n",
    "tuple_1 = (0,3)*3\n",
    "print(tuple_1)\n",
    "\n",
    "#string\n",
    "str_1 = 'fk'*6\n",
    "print(str_1)"
   ]
  },
  {
   "cell_type": "markdown",
   "id": "13353e3c",
   "metadata": {},
   "source": [
    "### Unpacking containers and functional arguments"
   ]
  },
  {
   "cell_type": "code",
   "execution_count": 12,
   "id": "517cd39b",
   "metadata": {},
   "outputs": [
    {
     "name": "stdout",
     "output_type": "stream",
     "text": [
      "1\n",
      "[4, 2, 3, 12]\n",
      "2\n",
      "7 4 2\n",
      "3 5 4\n",
      "1 4 5\n"
     ]
    }
   ],
   "source": [
    "# --- Containers unpacking ---\n",
    "#applies for Tuples, Lists, Sets\n",
    "\n",
    "_a = (1,4,2,3,12,2) #even though if it is Tuple, it will be unpacked as a List only.\n",
    "begin, *middle, last = _a\n",
    "print(begin)\n",
    "print(middle)\n",
    "print(last)\n",
    "\n",
    "# --- Functional arguments unpacking ---\n",
    "def foo(a,b,c):\n",
    "    print(a,b,c)\n",
    "\n",
    "list_2 = [7,4,2]    #the no. of elements in the list should be equal to no. of function parameters\n",
    "foo(*list_2)\n",
    "\n",
    "tuple_2 = (3,5,4)\n",
    "foo(*tuple_2)\n",
    "\n",
    "dict_1 = {'a':1,'b':4,'c':5}    #the key name should match the parameter's name\n",
    "foo(**dict_1)\n"
   ]
  },
  {
   "cell_type": "markdown",
   "id": "3dba6409",
   "metadata": {},
   "source": [
    "### Merge iterables into a List, Merge Dictionaries"
   ]
  },
  {
   "cell_type": "code",
   "execution_count": 13,
   "id": "c6b8a4a7",
   "metadata": {},
   "outputs": [
    {
     "name": "stdout",
     "output_type": "stream",
     "text": [
      "[1, 2, 3, 4, 5, 6]\n",
      "{'one': 1, 'two': 2, 'three': 3, 'four': 4}\n"
     ]
    }
   ],
   "source": [
    "# dump iterables into a list and merge them\n",
    "my_tuple = (1, 2, 3)\n",
    "my_set = {4, 5, 6}\n",
    "my_list = [*my_tuple, *my_set]\n",
    "print(my_list)\n",
    "\n",
    "# merge two dictionaries with dict unpacking\n",
    "dict_a = {'one': 1, 'two': 2}\n",
    "dict_b = {'three': 3, 'four': 4}\n",
    "dict_c = {**dict_a, **dict_b}\n",
    "print(dict_c)"
   ]
  },
  {
   "cell_type": "markdown",
   "id": "42f9533d",
   "metadata": {},
   "source": [
    "## Shallow vs Deep copying\n",
    "\n",
    "* Assignment statements ```obj2 = obj1``` doesn't create a real copy. It just creates a new variable with same reference.\n",
    "* To make real copies, we can use ```copy``` module. With the help of that we can do Shallow copy and a Deep copy.\n",
    "\n",
    "**Shallow copy** - *Only one level deep*. It doesn't copy the nested objects in the second level.  \n",
    "**Deep copy** - *Fully independent clone*. It can create a true clone of the object."
   ]
  },
  {
   "cell_type": "code",
   "execution_count": 17,
   "id": "3dba3941",
   "metadata": {},
   "outputs": [
    {
     "name": "stdout",
     "output_type": "stream",
     "text": [
      "[5, 2, 3, 4, 5]\n",
      "[5, 2, 3, 4, 5]\n",
      "[5, 4, 3, 4, 5]\n",
      "[5, 2, 3, 4, 5]\n",
      "[[-10, 2, 3, 4, 5], [6, 7, 8, 9, 10]]\n",
      "[[-10, 2, 3, 4, 5], [6, 7, 8, 9, 10]]\n"
     ]
    }
   ],
   "source": [
    "#--- Assignment Operation ---\n",
    "list_a = [1, 2, 3, 4, 5]\n",
    "list_b = list_a\n",
    "\n",
    "#modifies the original because it points to the same reference\n",
    "list_b[0] = 5\n",
    "\n",
    "print(list_b)\n",
    "print(list_a)\n",
    "\n",
    "#--- Shallow copy ---\n",
    "import copy\n",
    "list_b = copy.copy(list_a)\n",
    "#it doesn't modify the original, but still not usable for nested objects.\n",
    "list_b[1] = 4\n",
    "\n",
    "print(list_b)\n",
    "print(list_a)\n",
    "\n",
    "#Nested example\n",
    "list_a = [[1, 2, 3, 4, 5], [6, 7, 8, 9, 10]]\n",
    "list_b = copy.copy(list_a)\n",
    "\n",
    "# affects the other!\n",
    "list_a[0][0]= -10\n",
    "print(list_a)\n",
    "print(list_b)"
   ]
  },
  {
   "cell_type": "code",
   "execution_count": 18,
   "id": "77072e91",
   "metadata": {},
   "outputs": [
    {
     "name": "stdout",
     "output_type": "stream",
     "text": [
      "[[-10, 2, 3, 4, 5], [6, 7, 8, 9, 10]]\n",
      "[[1, 2, 3, 4, 5], [6, 7, 8, 9, 10]]\n"
     ]
    }
   ],
   "source": [
    "# --- Deep copy ---\n",
    "list_a = [[1, 2, 3, 4, 5], [6, 7, 8, 9, 10]]\n",
    "list_b = copy.deepcopy(list_a)\n",
    "\n",
    "# not affects the other\n",
    "list_a[0][0]= -10\n",
    "print(list_a)\n",
    "print(list_b)"
   ]
  },
  {
   "cell_type": "markdown",
   "id": "75ad2645",
   "metadata": {},
   "source": [
    "It applies also for the classes and nested objects created with those classes."
   ]
  },
  {
   "cell_type": "markdown",
   "id": "36c06ce3",
   "metadata": {},
   "source": [
    "### Context Managers and the 'with' statement\n",
    "Context managers are a great tool for resource management. They allow you to allocate and release resources precisely when you want to. A well-known example is the with open() statement:\n",
    "```py\n",
    "with open('notes.txt', 'w') as f:\n",
    "    f.write('some todo...')\n",
    "```\n",
    "\n",
    "Uses of Context Managers:\n",
    "* Open and close files\n",
    "* open and close database connections\n",
    "* Acquire and release locks."
   ]
  },
  {
   "cell_type": "code",
   "execution_count": null,
   "id": "00ce9b10",
   "metadata": {},
   "outputs": [],
   "source": [
    "#Implementing a context manager as a class\n",
    "\n",
    "class ManagedFile:\n",
    "    def __init__(self, filename):\n",
    "        print('init', filename)\n",
    "        self.filename = filename\n",
    "        \n",
    "    def __enter__(self):\n",
    "        print('enter')\n",
    "        self.file = open(self.filename, 'w')\n",
    "        return self.file\n",
    "        \n",
    "    def __exit__(self, exc_type, exc_value, exc_traceback):\n",
    "        if self.file:\n",
    "            self.file.close()\n",
    "        print('exit')\n",
    "            \n",
    "with ManagedFile('notes.txt') as f:\n",
    "    print('doing stuff...')\n",
    "    f.write('some todo...')\n",
    "\n",
    "# With exceptions handled\n",
    "class ManagedFile:\n",
    "    def __init__(self, filename):\n",
    "        print('init', filename)\n",
    "        self.filename = filename\n",
    "        \n",
    "    def __enter__(self):\n",
    "        print('enter')\n",
    "        self.file = open(self.filename, 'w')\n",
    "        return self.file\n",
    "        \n",
    "    def __exit__(self, exc_type, exc_value, exc_traceback):\n",
    "        if self.file:\n",
    "            self.file.close()\n",
    "        if exc_type is not None:\n",
    "            print('Exception has been handled')\n",
    "        print('exit')\n",
    "        return True\n",
    "\n",
    "\n",
    "with ManagedFile('notes2.txt') as f:\n",
    "    print('doing stuff...')\n",
    "    f.write('some todo...')\n",
    "    f.do_something()\n",
    "print('continuing...')"
   ]
  },
  {
   "cell_type": "code",
   "execution_count": null,
   "id": "7ac90a5d",
   "metadata": {},
   "outputs": [],
   "source": [
    "#Implementing a context manager as a generator\n",
    "from contextlib import contextmanager\n",
    "\n",
    "@contextmanager\n",
    "def open_managed_file(filename):\n",
    "    f = open(filename, 'w')\n",
    "    try:\n",
    "        yield f\n",
    "    finally:\n",
    "        f.close()\n",
    "        \n",
    "with open_managed_file('notes.txt') as f:\n",
    "    f.write('some todo...')"
   ]
  }
 ],
 "metadata": {
  "kernelspec": {
   "display_name": "Python 3 (ipykernel)",
   "language": "python",
   "name": "python3"
  },
  "language_info": {
   "codemirror_mode": {
    "name": "ipython",
    "version": 3
   },
   "file_extension": ".py",
   "mimetype": "text/x-python",
   "name": "python",
   "nbconvert_exporter": "python",
   "pygments_lexer": "ipython3",
   "version": "3.10.4"
  },
  "vscode": {
   "interpreter": {
    "hash": "e3db7fa2cb27b3e5de4b2dd36c7e59f05b600ebf41fe4f965ec8aafb6371face"
   }
  }
 },
 "nbformat": 4,
 "nbformat_minor": 5
}
