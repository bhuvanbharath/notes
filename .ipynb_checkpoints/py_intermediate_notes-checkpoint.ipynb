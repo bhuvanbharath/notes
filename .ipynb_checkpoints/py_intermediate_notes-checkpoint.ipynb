{
 "cells": [
  {
   "cell_type": "markdown",
   "id": "7fe59df1",
   "metadata": {},
   "source": [
    "# Python Intermediate:"
   ]
  },
  {
   "cell_type": "markdown",
   "id": "19b51d50",
   "metadata": {},
   "source": [
    "## Lists:\n",
    "\n",
    "Ordered | Mutable | allows duplicate elements | squared brackets"
   ]
  },
  {
   "cell_type": "code",
   "execution_count": 1,
   "id": "4067ef37",
   "metadata": {},
   "outputs": [
    {
     "name": "stdout",
     "output_type": "stream",
     "text": [
      "['banana', 'apple', 'orange']\n",
      "[]\n",
      "orange\n",
      "yes\n",
      "3\n",
      "['banana', 'apple', 'lemon', 'orange']\n",
      "['banana', 'apple', 'lemon']\n",
      "['lemon', 'apple', 'banana']\n",
      "['apple', 'banana', 'lemon']\n"
     ]
    }
   ],
   "source": [
    "### EXAMPLES ###\n",
    "\n",
    "fruitList = [\"banana\", \"apple\", \"orange\"]\n",
    "print(fruitList)\n",
    "\n",
    "listOfBugs = list()\n",
    "print(listOfBugs)      #prints an empty list\n",
    "\n",
    "# allows multiple datatypes and duplicates\n",
    "randomList = [5, 20.5, \"hello\", \"hello\"]      \n",
    "\n",
    "# negative indices fetch the element from last\n",
    "fruit = fruitList[-1]     \n",
    "print(fruit)\n",
    "\n",
    "# check if element is present in the list\n",
    "if 'apple' in fruitList:   print('yes')\n",
    "\n",
    "# print the length of lists\n",
    "print (len(fruitList))     \n",
    "\n",
    "# insert an element at specific index\n",
    "fruitList.insert(2, \"lemon\")      \n",
    "print(fruitList)\n",
    "\n",
    "# remove elements\n",
    "item = fruitList.pop()     #removes an item at the end and assign it to 'item' variable\n",
    "#fruitList.remove('apple')\n",
    "print(fruitList)\n",
    "#fruitList.clear()\n",
    "\n",
    "#reverse elements\n",
    "fruitList.reverse()\n",
    "print(fruitList)\n",
    "\n",
    "#sort elements\n",
    "fruitList.sort()\n",
    "print(fruitList)"
   ]
  },
  {
   "cell_type": "code",
   "execution_count": null,
   "id": "92b4dfad",
   "metadata": {},
   "outputs": [],
   "source": []
  }
 ],
 "metadata": {
  "kernelspec": {
   "display_name": "Python 3 (ipykernel)",
   "language": "python",
   "name": "python3"
  },
  "language_info": {
   "codemirror_mode": {
    "name": "ipython",
    "version": 3
   },
   "file_extension": ".py",
   "mimetype": "text/x-python",
   "name": "python",
   "nbconvert_exporter": "python",
   "pygments_lexer": "ipython3",
   "version": "3.10.4"
  }
 },
 "nbformat": 4,
 "nbformat_minor": 5
}
