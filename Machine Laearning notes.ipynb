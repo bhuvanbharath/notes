{
 "cells": [
  {
   "cell_type": "markdown",
   "id": "4e2283b2",
   "metadata": {},
   "source": [
    "## Terminology:\n",
    "\n",
    "### Labels:  \n",
    "- It the variable that we are predicting. Ex: spam/not spam in email filter model (supervised learning).  \n",
    "### Features:  \n",
    "- Features are the input variables that describe our data. Ex: subjectLine, toAddress, fromAddress, etc., in the email filter model.  \n",
    "### Example:  \n",
    "- An example is a particular instance of data.  \n",
    "#### Labelled example:  \n",
    "- It contains both the labels and the features. It is used for training the model.  \n",
    "*labeled examples: {features, label}: (x, y)*  \n",
    "#### Unlabelled example:  \n",
    "- It contains only the features. It is used for testing the model.  \n",
    "*unlabeled examples: {features, ?}: (x, ?)*  \n",
    "### Models:  \n",
    "- Model define the relationship between features and labels. There are two phases in model's life,  \n",
    "    - **Training**  - training the model with labeled data\n",
    "    - **Inference**  - testing the model with unlabeled data\n"
   ]
  },
  {
   "cell_type": "markdown",
   "id": "0d665fe3",
   "metadata": {},
   "source": []
  }
 ],
 "metadata": {
  "kernelspec": {
   "display_name": "Python 3 (ipykernel)",
   "language": "python",
   "name": "python3"
  },
  "language_info": {
   "codemirror_mode": {
    "name": "ipython",
    "version": 3
   },
   "file_extension": ".py",
   "mimetype": "text/x-python",
   "name": "python",
   "nbconvert_exporter": "python",
   "pygments_lexer": "ipython3",
   "version": "3.10.4"
  }
 },
 "nbformat": 4,
 "nbformat_minor": 5
}
