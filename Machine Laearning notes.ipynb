{
 "cells": [
  {
   "cell_type": "code",
   "execution_count": 2,
   "id": "62129b00",
   "metadata": {},
   "outputs": [
    {
     "name": "stdout",
     "output_type": "stream",
     "text": [
      "hello world\n"
     ]
    }
   ],
   "source": [
    "x = 10\n",
    "print('hello world')"
   ]
  },
  {
   "cell_type": "markdown",
   "id": "023606fd",
   "metadata": {},
   "source": [
    "hey there  \n",
    "how are you?"
   ]
  },
  {
   "cell_type": "markdown",
   "id": "cb9b82b6",
   "metadata": {},
   "source": []
  }
 ],
 "metadata": {
  "kernelspec": {
   "display_name": "Python 3 (ipykernel)",
   "language": "python",
   "name": "python3"
  },
  "language_info": {
   "codemirror_mode": {
    "name": "ipython",
    "version": 3
   },
   "file_extension": ".py",
   "mimetype": "text/x-python",
   "name": "python",
   "nbconvert_exporter": "python",
   "pygments_lexer": "ipython3",
   "version": "3.10.4"
  }
 },
 "nbformat": 4,
 "nbformat_minor": 5
}
