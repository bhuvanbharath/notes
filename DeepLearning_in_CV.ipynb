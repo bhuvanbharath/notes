{
  "nbformat": 4,
  "nbformat_minor": 0,
  "metadata": {
    "colab": {
      "provenance": [],
      "authorship_tag": "ABX9TyMkXCvOdW34PTajN/4tXwgZ",
      "include_colab_link": true
    },
    "kernelspec": {
      "name": "python3",
      "display_name": "Python 3"
    },
    "language_info": {
      "name": "python"
    }
  },
  "cells": [
    {
      "cell_type": "markdown",
      "metadata": {
        "id": "view-in-github",
        "colab_type": "text"
      },
      "source": [
        "<a href=\"https://colab.research.google.com/github/bhuvanbharath/notes/blob/main/DeepLearning_in_CV.ipynb\" target=\"_parent\"><img src=\"https://colab.research.google.com/assets/colab-badge.svg\" alt=\"Open In Colab\"/></a>"
      ]
    },
    {
      "cell_type": "code",
      "execution_count": 4,
      "metadata": {
        "id": "2bS2D2o1-brn"
      },
      "outputs": [],
      "source": [
        "import tensorflow as tf"
      ]
    },
    {
      "cell_type": "markdown",
      "source": [
        "## Tensor in Numbers"
      ],
      "metadata": {
        "id": "5pJya_KWGxsU"
      }
    },
    {
      "cell_type": "code",
      "source": [
        "tensor_1d = tf.constant([2,4,9])\n",
        "print(tensor_1d)\n",
        "\n",
        "tensor_2d = tf.constant([[2,4,5], [3,6,9]])\n",
        "print(tensor_2d)\n",
        "\n",
        "tensor_3d = tf.constant([[[4,8,7], [8,0,2]], [[4,8,7], [8,0,2]], [[4,8,7], [8,0,2]]])\n",
        "print(tensor_3d)"
      ],
      "metadata": {
        "colab": {
          "base_uri": "https://localhost:8080/"
        },
        "id": "wmX_EX3--wBI",
        "outputId": "b8b4546f-b341-475c-e46b-3f40b8882f3b"
      },
      "execution_count": null,
      "outputs": [
        {
          "output_type": "stream",
          "name": "stdout",
          "text": [
            "tf.Tensor([2 4 9], shape=(3,), dtype=int32)\n",
            "tf.Tensor(\n",
            "[[2 4 5]\n",
            " [3 6 9]], shape=(2, 3), dtype=int32)\n",
            "tf.Tensor(\n",
            "[[[4 8 7]\n",
            "  [8 0 2]]\n",
            "\n",
            " [[4 8 7]\n",
            "  [8 0 2]]\n",
            "\n",
            " [[4 8 7]\n",
            "  [8 0 2]]], shape=(3, 2, 3), dtype=int32)\n"
          ]
        }
      ]
    },
    {
      "cell_type": "markdown",
      "source": [
        "## Tensor in Strings"
      ],
      "metadata": {
        "id": "ju2QAsPJHAgN"
      }
    },
    {
      "cell_type": "code",
      "source": [
        "tensor_str = tf.constant(\"tensor string here\")\n",
        "print(tensor_str)\n",
        "tensor_str_list = tf.constant([[\"tensor\"],[\"string\"], [\"here\"]])\n",
        "print(tensor_str_list)"
      ],
      "metadata": {
        "colab": {
          "base_uri": "https://localhost:8080/"
        },
        "id": "51ScDY3aAbDd",
        "outputId": "ab4cf07f-1c10-427f-bcf1-81e90758b3ae"
      },
      "execution_count": null,
      "outputs": [
        {
          "output_type": "stream",
          "name": "stdout",
          "text": [
            "tf.Tensor(b'tensor string here', shape=(), dtype=string)\n",
            "tf.Tensor(\n",
            "[[b'tensor']\n",
            " [b'string']\n",
            " [b'here']], shape=(3, 1), dtype=string)\n"
          ]
        }
      ]
    },
    {
      "cell_type": "markdown",
      "source": [
        "#Converting Numpy array to Tensor"
      ],
      "metadata": {
        "id": "2rwLsQBKHMHZ"
      }
    },
    {
      "cell_type": "code",
      "source": [
        "import numpy as np"
      ],
      "metadata": {
        "id": "XdbxM37hAn_o"
      },
      "execution_count": 1,
      "outputs": []
    },
    {
      "cell_type": "code",
      "source": [
        "np_arr = np.array([2,6,4])\n",
        "print(np_arr)"
      ],
      "metadata": {
        "colab": {
          "base_uri": "https://localhost:8080/"
        },
        "id": "xDADtHirHTGG",
        "outputId": "e805da51-5bce-4f65-a33a-1e9e3e88458e"
      },
      "execution_count": 2,
      "outputs": [
        {
          "output_type": "stream",
          "name": "stdout",
          "text": [
            "[2 6 4]\n"
          ]
        }
      ]
    },
    {
      "cell_type": "code",
      "source": [
        "tensor_np = tf.convert_to_tensor(np_arr)\n",
        "print(tensor_np)"
      ],
      "metadata": {
        "colab": {
          "base_uri": "https://localhost:8080/"
        },
        "id": "L0OS9bOnIVsA",
        "outputId": "b9a3067a-3189-4d3e-d94f-58dd6816a631"
      },
      "execution_count": 5,
      "outputs": [
        {
          "output_type": "stream",
          "name": "stdout",
          "text": [
            "tf.Tensor([2 6 4], shape=(3,), dtype=int64)\n"
          ]
        }
      ]
    },
    {
      "cell_type": "markdown",
      "source": [
        "#Identity Tensor\n",
        "- used to create identity tensor"
      ],
      "metadata": {
        "id": "LeoYKqKTIuSQ"
      }
    },
    {
      "cell_type": "code",
      "source": [
        "eye_tensor = tf.eye(\n",
        "    num_rows=3,\n",
        "    num_columns=4,\n",
        "    batch_shape=[2,3], # used to create multi-dimensional tensors\n",
        "    dtype=tf.dtypes.int32 # supported dtypes = int, float, bool, etc.,\n",
        "    )\n",
        "print(eye_tensor)"
      ],
      "metadata": {
        "colab": {
          "base_uri": "https://localhost:8080/"
        },
        "id": "dVW836wnI0GR",
        "outputId": "3f93f63e-bd3e-4424-c704-5cbde083e465"
      },
      "execution_count": 10,
      "outputs": [
        {
          "output_type": "stream",
          "name": "stdout",
          "text": [
            "tf.Tensor(\n",
            "[[[[1 0 0 0]\n",
            "   [0 1 0 0]\n",
            "   [0 0 1 0]]\n",
            "\n",
            "  [[1 0 0 0]\n",
            "   [0 1 0 0]\n",
            "   [0 0 1 0]]\n",
            "\n",
            "  [[1 0 0 0]\n",
            "   [0 1 0 0]\n",
            "   [0 0 1 0]]]\n",
            "\n",
            "\n",
            " [[[1 0 0 0]\n",
            "   [0 1 0 0]\n",
            "   [0 0 1 0]]\n",
            "\n",
            "  [[1 0 0 0]\n",
            "   [0 1 0 0]\n",
            "   [0 0 1 0]]\n",
            "\n",
            "  [[1 0 0 0]\n",
            "   [0 1 0 0]\n",
            "   [0 0 1 0]]]], shape=(2, 3, 3, 4), dtype=int32)\n"
          ]
        }
      ]
    },
    {
      "cell_type": "markdown",
      "source": [
        "#Fill Tensor\n",
        "- fills the tensor with value provided"
      ],
      "metadata": {
        "id": "jAzSAErxLG0L"
      }
    },
    {
      "cell_type": "code",
      "source": [
        "fill_tf = tf.fill([2,5,4],10)\n",
        "print(fill_tf)"
      ],
      "metadata": {
        "colab": {
          "base_uri": "https://localhost:8080/"
        },
        "id": "EqQMxblZJIpn",
        "outputId": "992e52b8-66ea-43a3-acd8-a526137e3bbf"
      },
      "execution_count": 15,
      "outputs": [
        {
          "output_type": "stream",
          "name": "stdout",
          "text": [
            "tf.Tensor(\n",
            "[[[10 10 10 10]\n",
            "  [10 10 10 10]\n",
            "  [10 10 10 10]\n",
            "  [10 10 10 10]\n",
            "  [10 10 10 10]]\n",
            "\n",
            " [[10 10 10 10]\n",
            "  [10 10 10 10]\n",
            "  [10 10 10 10]\n",
            "  [10 10 10 10]\n",
            "  [10 10 10 10]]], shape=(2, 5, 4), dtype=int32)\n"
          ]
        }
      ]
    },
    {
      "cell_type": "markdown",
      "source": [
        "#Ones Tensor\n",
        "- creates a tensor with value 1"
      ],
      "metadata": {
        "id": "oh-zs6QkM60a"
      }
    },
    {
      "cell_type": "code",
      "source": [
        "ones_tensor = tf.ones([2,4,5], dtype = tf.dtypes.float16)\n",
        "print(ones_tensor)"
      ],
      "metadata": {
        "colab": {
          "base_uri": "https://localhost:8080/"
        },
        "id": "W64zrIiNLcDu",
        "outputId": "a721205f-99ae-4c90-b13e-7c09510af0b0"
      },
      "execution_count": 17,
      "outputs": [
        {
          "output_type": "stream",
          "name": "stdout",
          "text": [
            "tf.Tensor(\n",
            "[[[1. 1. 1. 1. 1.]\n",
            "  [1. 1. 1. 1. 1.]\n",
            "  [1. 1. 1. 1. 1.]\n",
            "  [1. 1. 1. 1. 1.]]\n",
            "\n",
            " [[1. 1. 1. 1. 1.]\n",
            "  [1. 1. 1. 1. 1.]\n",
            "  [1. 1. 1. 1. 1.]\n",
            "  [1. 1. 1. 1. 1.]]], shape=(2, 4, 5), dtype=float16)\n"
          ]
        }
      ]
    },
    {
      "cell_type": "code",
      "source": [],
      "metadata": {
        "id": "-QwblGthNFwE"
      },
      "execution_count": null,
      "outputs": []
    }
  ]
}