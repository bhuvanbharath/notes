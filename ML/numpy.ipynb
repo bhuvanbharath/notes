{
 "cells": [
  {
   "cell_type": "markdown",
   "id": "47a7cffb",
   "metadata": {},
   "source": [
    "### Topics ###\n",
    "\n",
    "![](2023-08-04-20-39-03.png)"
   ]
  },
  {
   "cell_type": "code",
   "execution_count": 4,
   "id": "7c78852c",
   "metadata": {},
   "outputs": [
    {
     "name": "stdout",
     "output_type": "stream",
     "text": [
      "1.22.3\n",
      "a: [1 2 4]\n",
      "shape: (3,)\n",
      "dtype: int32\n",
      "no. of dim: 1\n",
      "no. of elements: 3\n",
      "size of each item: 4\n"
     ]
    }
   ],
   "source": [
    "import numpy as np\n",
    "print(np.__version__)\n",
    "\n",
    "a = np.array([1,2,4])\n",
    "print(f'a: {a}')\n",
    "print(f'shape: {a.shape}')\n",
    "print(f'dtype: {a.dtype}')\n",
    "print(f'no. of dim: {a.ndim}')\n",
    "print(f'no. of elements: {a.size}')\n",
    "print(f'size of each item: {a.itemsize}')"
   ]
  },
  {
   "cell_type": "markdown",
   "id": "a484435c",
   "metadata": {},
   "source": [
    "## Arrays vs Lists ##\n",
    "\n",
    "### Data Type: ###\n",
    "* Lists: A list in Python is a collection of heterogeneous data types. This means you can have elements of different types (e.g., integers, strings, floats) within the same list.\n",
    "* Arrays: In Python, arrays are implemented through the NumPy library. Arrays are homogeneous, meaning all elements in the array must have the same data type (e.g., int, float, etc.).\n",
    "\n",
    "### Functionality and Operations: ###\n",
    "* Lists: Python lists come with a wide range of built-in methods for manipulation, such as `append(), pop(), extend()`, etc. They are versatile and flexible but may not be as efficient for numerical computations.\n",
    "* Arrays: Numpy arrays offer a variety of numerical operations that can be performed on the entire array efficiently due to their homogeneous nature. These operations include element-wise arithmetic, broadcasting, matrix multiplication, and more.\n",
    "\n",
    "### Performance: ###\n",
    "* Lists: Python lists are generally slower for numerical computations and large-scale data manipulation due to their dynamic nature and lack of vectorization.\n",
    "* Arrays: Numpy arrays are optimized for numerical computations and are significantly faster for large datasets, especially when using vectorized operations.\n",
    "\n",
    "### Memory Overhead: ###\n",
    "* Lists: Python lists have more memory overhead compared to arrays due to additional information they store, such as the type of each element and the reference count.\n",
    "* Arrays: Numpy arrays have less memory overhead because they store data more compactly in contiguous blocks of memory."
   ]
  },
  {
   "cell_type": "code",
   "execution_count": 5,
   "id": "05e97712",
   "metadata": {},
   "outputs": [
    {
     "name": "stdout",
     "output_type": "stream",
     "text": [
      "46\n",
      "46\n",
      "46\n"
     ]
    }
   ],
   "source": [
    "# DOT PRODUCT #\n",
    "a = np.array([1,2,3])\n",
    "b = np.array([4,9,8])\n",
    "\n",
    "# method 1\n",
    "dot = (a * b).sum()\n",
    "print(dot)\n",
    "\n",
    "# method 2\n",
    "print(np.dot(a,b))\n",
    "\n",
    "# method 3\n",
    "dot1 = a @ b\n",
    "print(dot1)"
   ]
  },
  {
   "cell_type": "code",
   "execution_count": 6,
   "id": "626b00ba",
   "metadata": {},
   "outputs": [
    {
     "name": "stdout",
     "output_type": "stream",
     "text": [
      "[[1 3]\n",
      " [4 7]]\n",
      "(2, 2)\n",
      "3\n",
      "retrieve all the rows in column 0:\n",
      " [1 4]\n",
      "retrieve all the coulmn in row 0:\n",
      " [1 3]\n",
      "transpose:\n",
      "[[1 4]\n",
      " [3 7]]\n",
      "determinant:\n",
      "-4.999999999999999\n",
      "inverse:\n",
      "[[-1.4  0.6]\n",
      " [ 0.8 -0.2]]\n",
      "bool array: [[False False]\n",
      " [False False]\n",
      " [ True  True]\n",
      " [ True False]]\n",
      "value array: [6 9 5]\n",
      "modified array: [[-1  4]\n",
      " [ 3 -1]\n",
      " [ 6  9]\n",
      " [ 5 -1]]\n",
      "fancy indexing: [32 54 74 34]\n"
     ]
    }
   ],
   "source": [
    "# MULTIDIMENSIONAL ARRAYS #\n",
    "\n",
    "mArr = np.array([[1,3], [4,7]])\n",
    "print(mArr)\n",
    "print(mArr.shape)\n",
    "print(mArr[0,1])\n",
    "\n",
    "# retrieve all the rows in column 0\n",
    "print(f'retrieve all the rows in column 0:\\n {mArr[:,0]}')\n",
    "# retrieve all the coulmn in row 0\n",
    "print(f'retrieve all the coulmn in row 0:\\n {mArr[0,:]}')\n",
    "\n",
    "# transpose\n",
    "print(f'transpose:\\n{mArr.T}')\n",
    "\n",
    "# determinant\n",
    "print(f'determinant:\\n{np.linalg.det(mArr)}')\n",
    "\n",
    "# inverse\n",
    "print(f'inverse:\\n{np.linalg.inv(mArr)}')   # the array should be a square one\n",
    "\n",
    "# bool indexing\n",
    "a1 = np.array([[1,4], [3,2], [6,9], [5,0]])\n",
    "bool_idx = a1>4\n",
    "print(f'bool array: {bool_idx}')\n",
    "print(f'value array: {a1[a1>4]}')\n",
    "\n",
    "# modifying array based on certain condition\n",
    "b1 = np.where(a1>2, a1, -1)\n",
    "print(f'modified array: {b1}')\n",
    "\n",
    "# fancy indexing\n",
    "c1 = np.array([32,54,23,74,34,87])\n",
    "c2 = np.argwhere(c1%2 == 0).flatten()    # index array  # .flatten() - suppresses the array to 1D\n",
    "print(f'fancy indexing: {c1[c2]}')\n",
    "\n"
   ]
  },
  {
   "cell_type": "code",
   "execution_count": 7,
   "id": "2c470dd1",
   "metadata": {},
   "outputs": [
    {
     "data": {
      "text/plain": [
       "array([[2, 6],\n",
       "       [3, 7],\n",
       "       [5, 9]])"
      ]
     },
     "execution_count": 7,
     "metadata": {},
     "output_type": "execute_result"
    }
   ],
   "source": [
    "# RESHAPING #\n",
    "\n",
    "a2 = np.array([2,6,3,7,5,9])\n",
    "a2.reshape(3,2)\n",
    "#a2.reshape(2,4) # ERROR"
   ]
  },
  {
   "cell_type": "code",
   "execution_count": 10,
   "id": "400c10d4",
   "metadata": {},
   "outputs": [
    {
     "name": "stdout",
     "output_type": "stream",
     "text": [
      "adding a dimension to the array (columnwise)\n",
      "[[2 6 3 7 5 9]]\n",
      "(1, 6)\n",
      "adding a dimension to the array (rowwise)\n",
      "[[2]\n",
      " [6]\n",
      " [3]\n",
      " [7]\n",
      " [5]\n",
      " [9]]\n",
      "(6, 1)\n"
     ]
    }
   ],
   "source": [
    "# adding a dimension to the array (columnwise)\n",
    "print('adding a dimension to the array (columnwise)')\n",
    "b2 = a2[np.newaxis,:]\n",
    "print(b2)\n",
    "print(b2.shape)\n",
    "\n",
    "# adding a dimension to the array\n",
    "b2 = a2[:,np.newaxis]\n",
    "print('adding a dimension to the array (rowwise)')\n",
    "print(b2)\n",
    "print(b2.shape)"
   ]
  },
  {
   "cell_type": "code",
   "execution_count": 30,
   "id": "975c673a",
   "metadata": {},
   "outputs": [
    {
     "name": "stdout",
     "output_type": "stream",
     "text": [
      "[[ 1  3]\n",
      " [ 5  7]\n",
      " [ 9 11]]\n",
      "[[ 1  3  9]\n",
      " [ 5  7 11]]\n",
      "--- hstack ---\n",
      "[5 3 6 1 8 4 8 4 7 2]\n",
      "--- vstack ---\n",
      "[[ 1  3]\n",
      " [ 5  7]\n",
      " [ 9 11]]\n"
     ]
    }
   ],
   "source": [
    "# CONCATENATION #\n",
    "\n",
    "a3 = np.array([[1,3],[5,7]])\n",
    "b3 = np.array([[9,11]])\n",
    "\n",
    "# as it is\n",
    "concatArr = np.concatenate((a3,b3))\n",
    "print(concatArr)\n",
    "\n",
    "# in diff axis\n",
    "concatArr = np.concatenate((a3,b3.T), axis = 1)\n",
    "print(concatArr)\n",
    "\n",
    "# hstack\n",
    "a4 = np.array([5,3,6,1,8])\n",
    "b4 = np.array([4,8,4,7,2,3])\n",
    "print('--- hstack ---')\n",
    "hstackArr = np.hstack((a4, b4))\n",
    "print(hstackArr)\n",
    "\n",
    "# vstack\n",
    "print('--- vstack ---')\n",
    "vstackArr = np.vstack((a3,b3))\n",
    "print(vstackArr)"
   ]
  },
  {
   "cell_type": "code",
   "execution_count": 28,
   "id": "3906e372",
   "metadata": {},
   "outputs": [
    {
     "name": "stdout",
     "output_type": "stream",
     "text": [
      "[[ 7 11  7]\n",
      " [ 6 16  8]\n",
      " [ 7 11  7]\n",
      " [ 6 16  8]]\n"
     ]
    }
   ],
   "source": [
    "# BROADCASTING #\n",
    "\n",
    "a5 = np.array([[2,4,6], [1,9,7], [2,4,6], [1,9,7]])\n",
    "b5 = np.array([5,7,1])\n",
    "\n",
    "broadcastedArr = a5 + b5\n",
    "print(broadcastedArr)"
   ]
  },
  {
   "cell_type": "code",
   "execution_count": 47,
   "id": "d4b92cd4",
   "metadata": {},
   "outputs": [
    {
     "name": "stdout",
     "output_type": "stream",
     "text": [
      "\n",
      "--- SUM ---\n",
      "71\n",
      "[13 11  9  9 10 10  9]\n",
      "[37 34]\n",
      "\n",
      "--- MEAN ---\n",
      "5.071428571428571\n",
      "[6.5 5.5 4.5 4.5 5.  5.  4.5]\n",
      "[5.28571429 4.85714286]\n",
      "\n",
      "--- STD DEVIATION ---\n",
      "2.3743957340849517\n",
      "[1.5 1.5 0.5 2.5 2.  3.  3.5]\n",
      "[2.24971654 2.4743583 ]\n",
      "\n",
      "--- VARIANCE ---\n",
      "5.637755102040818\n",
      "[ 2.25  2.25  0.25  6.25  4.    9.   12.25]\n",
      "[5.06122449 6.12244898]\n"
     ]
    }
   ],
   "source": [
    "# FUNCTIONS AND AXIS\n",
    "\n",
    "a6 = np.array([8,4,5,7,3,2,8])\n",
    "b6 = np.array([5,7,4,2,7,8,1])\n",
    "\n",
    "# SUM\n",
    "print('\\n--- SUM ---')\n",
    "# axis = none\n",
    "sum = np.sum((a6, b6), axis = None)\n",
    "print(sum)\n",
    "# axis = 0\n",
    "sum = np.sum((a6, b6), axis = 0)\n",
    "print(sum)\n",
    "# axis = 1\n",
    "sum = np.sum((a6, b6), axis = 1)\n",
    "print(sum)\n",
    "\n",
    "# MEAN\n",
    "print('\\n--- MEAN ---')\n",
    "# axis = none\n",
    "sum = np.mean((a6, b6), axis = None)\n",
    "print(sum)\n",
    "# axis = 0\n",
    "sum = np.mean((a6, b6), axis = 0)\n",
    "print(sum)\n",
    "# axis = 1\n",
    "sum = np.mean((a6, b6), axis = 1)\n",
    "print(sum)\n",
    "\n",
    "print('\\n--- STD DEVIATION ---')\n",
    "# axis = none\n",
    "sum = np.std((a6, b6), axis = None)\n",
    "print(sum)\n",
    "# axis = 0\n",
    "sum = np.std((a6, b6), axis = 0)\n",
    "print(sum)\n",
    "# axis = 1\n",
    "sum = np.std((a6, b6), axis = 1)\n",
    "print(sum)\n",
    "\n",
    "print('\\n--- VARIANCE ---')\n",
    "# axis = none\n",
    "sum = np.var((a6, b6), axis = None)\n",
    "print(sum)\n",
    "# axis = 0\n",
    "sum = np.var((a6, b6), axis = 0)\n",
    "print(sum)\n",
    "# axis = 1\n",
    "sum = np.var((a6, b6), axis = 1)\n",
    "print(sum)"
   ]
  },
  {
   "cell_type": "code",
   "execution_count": 46,
   "id": "fe5ff950",
   "metadata": {},
   "outputs": [
    {
     "name": "stdout",
     "output_type": "stream",
     "text": [
      "\n",
      "--- MINIMUM ---\n",
      "1\n",
      "[5 4 4 2 3 2 1]\n",
      "[2 1]\n",
      "\n",
      "--- MAXIMUM ---\n",
      "8\n",
      "[8 7 5 7 7 8 8]\n",
      "[8 8]\n"
     ]
    }
   ],
   "source": [
    "print('\\n--- MINIMUM ---')\n",
    "# axis = none\n",
    "sum = np.min((a6, b6), axis = None)\n",
    "print(sum)\n",
    "# axis = 0\n",
    "sum = np.min((a6, b6), axis = 0)\n",
    "print(sum)\n",
    "# axis = 1\n",
    "sum = np.min((a6, b6), axis = 1)\n",
    "print(sum)\n",
    "\n",
    "print('\\n--- MAXIMUM ---')\n",
    "# axis = none\n",
    "sum = np.max((a6, b6), axis = None)\n",
    "print(sum)\n",
    "# axis = 0\n",
    "sum = np.max((a6, b6), axis = 0)\n",
    "print(sum)\n",
    "# axis = 1\n",
    "sum = np.max((a6, b6), axis = 1)\n",
    "print(sum)"
   ]
  },
  {
   "cell_type": "code",
   "execution_count": 51,
   "id": "bc721e25",
   "metadata": {},
   "outputs": [
    {
     "name": "stdout",
     "output_type": "stream",
     "text": [
      "int32\n",
      "float64\n"
     ]
    }
   ],
   "source": [
    "# DATATTYPES #\n",
    "a7 = np.array([2,4,6])\n",
    "print(a7.dtype)\n",
    "b7 = np.array([3,6,4], dtype=np.float64)\n",
    "print(b7.dtype)"
   ]
  },
  {
   "cell_type": "code",
   "execution_count": 62,
   "id": "19c639a7",
   "metadata": {},
   "outputs": [
    {
     "name": "stdout",
     "output_type": "stream",
     "text": [
      "[[0. 0. 0. 0.]\n",
      " [0. 0. 0. 0.]\n",
      " [0. 0. 0. 0.]]\n",
      "[[1. 1. 1. 1.]\n",
      " [1. 1. 1. 1.]\n",
      " [1. 1. 1. 1.]]\n",
      "[[7.2 7.2 7.2 7.2]\n",
      " [7.2 7.2 7.2 7.2]\n",
      " [7.2 7.2 7.2 7.2]]\n",
      "[[1. 0. 0.]\n",
      " [0. 1. 0.]\n",
      " [0. 0. 1.]]\n",
      "[0 1 2 3 4]\n",
      "[ 0.  5. 10. 15. 20.]\n"
     ]
    }
   ],
   "source": [
    "# GENERATING ARRAYS #\n",
    "a8 = np.zeros((3,4))\n",
    "print(a8)\n",
    "\n",
    "a8 = np.ones((3,4))\n",
    "print(a8)\n",
    "\n",
    "a8 = np.full((3,4), 7.2)\n",
    "print(a8)\n",
    "\n",
    "a8 = np.eye(3)\n",
    "print(a8)\n",
    "\n",
    "a8 = np.arange(5)\n",
    "print(a8)\n",
    "\n",
    "a8 = np.linspace(0,20,5) # divides 0 to 20 into 5 elements\n",
    "print(a8)"
   ]
  },
  {
   "cell_type": "code",
   "execution_count": 63,
   "id": "451c7f7f",
   "metadata": {},
   "outputs": [
    {
     "name": "stdout",
     "output_type": "stream",
     "text": [
      "[[0.02970255 0.44655226]\n",
      " [0.55915055 0.42102371]\n",
      " [0.60418856 0.58185864]]\n",
      "[[ 0.61365753 -0.75597651]\n",
      " [-0.56912048  0.15421942]\n",
      " [ 0.97273552 -1.33767759]]\n",
      "-0.0021739215575731267 0.9981761088141822 0.9990876382050686\n",
      "-0.013761477551262688\n",
      "[[7 4 8]\n",
      " [5 4 9]\n",
      " [8 3 9]]\n",
      "[1 2 6 4 4 0 6 0 4 1]\n",
      "[2 1 3 3 2 1 2 3]\n"
     ]
    }
   ],
   "source": [
    "# RANDOM NUMBERS #\n",
    "a = np.random.random((3,2)) # uniform 0-1 distribution\n",
    "print(a)\n",
    "b = np.random.randn(3,2) # normal/Gaussian distribution, mean 0 and unit variance\n",
    "# no tuple as shape here! each dimension one argument\n",
    "print(b)\n",
    "\n",
    "R = np.random.randn(10000)\n",
    "print(R.mean(), R.var(), R.std())\n",
    "\n",
    "R = np.random.randn(10, 3)\n",
    "print(R.mean()) # mean of whole array\n",
    "\n",
    "# random integer, low,high,size; high is exclusive\n",
    "R = np.random.randint(3,10,size=(3,3)) # if we only pass one parameter, then from 0-x\n",
    "print(R)\n",
    "\n",
    "# with integer between 0 up to certain value\n",
    "c = np.random.choice(7, size=10)\n",
    "print(c)\n",
    "# random values from a array\n",
    "d = np.random.choice([1,2,3,4], size=8)\n",
    "print(d)"
   ]
  },
  {
   "cell_type": "code",
   "execution_count": 68,
   "id": "e826a83e",
   "metadata": {},
   "outputs": [
    {
     "name": "stdout",
     "output_type": "stream",
     "text": [
      "[-0.37228132  5.37228132]\n",
      "[[-0.82456484 -0.41597356]\n",
      " [ 0.56576746 -0.90937671]]\n",
      "[-0.82456484  0.56576746]\n",
      "[ 0.30697009 -0.21062466] [ 0.30697009 -0.21062466]\n",
      "[ True False]\n",
      "True\n"
     ]
    }
   ],
   "source": [
    "# eigenvalues\n",
    "a = np.array([[1,2], [3,4]])\n",
    "eigenvalues, eigenvectors = np.linalg.eig(a)\n",
    "# Note: use eigh if your matrix is symmetric (faster)\n",
    "print(eigenvalues)\n",
    "print(eigenvectors) # column vectors\n",
    "print(eigenvectors[:,0]) # column 0 corresponding to eigenvalue[0]\n",
    "\n",
    "# verify: e-vec * e-val = A * e-vec\n",
    "d = eigenvectors[:,0] * eigenvalues[0]\n",
    "e = a @ eigenvectors[:, 0]\n",
    "print(d, e)\n",
    "print(d == e) # numerical issues\n",
    "\n",
    "# correct way to compare matrix\n",
    "print(np.allclose(d,e))"
   ]
  },
  {
   "cell_type": "markdown",
   "id": "2e9c7c15",
   "metadata": {},
   "source": [
    "### LINEAR EQUATIONS ###\n",
    "![](2023-08-09-21-12-53.png)\n",
    "\n",
    "![](2023-08-09-21-14-12.png)"
   ]
  },
  {
   "cell_type": "code",
   "execution_count": 69,
   "id": "7b6f9c26",
   "metadata": {},
   "outputs": [
    {
     "name": "stdout",
     "output_type": "stream",
     "text": [
      "[1500.  700.]\n",
      "[1500.  700.]\n"
     ]
    }
   ],
   "source": [
    "# solve linear system\n",
    "# x1+x2=2200\n",
    "# 1.5 x1 + 4 x2 = 5050\n",
    "# 2 equations and 2 unknowns\n",
    "A = np.array([[1, 1], [1.5, 4]])\n",
    "b = np.array([2200,5050])\n",
    "\n",
    "# Ax = b <=> x = b/A\n",
    "\n",
    "# But: inverse is slow and less accurate\n",
    "x = np.linalg.inv(A).dot(b) # not recommended\n",
    "print(x)\n",
    "x = np.linalg.solve(A,b) # good\n",
    "print(x)"
   ]
  },
  {
   "cell_type": "code",
   "execution_count": 71,
   "id": "c46c2060",
   "metadata": {},
   "outputs": [
    {
     "name": "stdout",
     "output_type": "stream",
     "text": [
      "(4601, 58) float32\n",
      "(4602, 58)\n"
     ]
    }
   ],
   "source": [
    "# LOADING CSV #\n",
    "# https://www.python-engineer.com/videos/how-to-load-data/\n",
    "\n",
    "# 1) load with np.loadtxt()\n",
    "data = np.loadtxt('spambase.csv', delimiter=\",\",dtype=np.float32, skiprows=1)\n",
    "print(data.shape, data.dtype)\n",
    "\n",
    "# 2) load with np.genfromtxt()\n",
    "data = np.genfromtxt('spambase.csv', delimiter=\",\", dtype=np.float32)\n",
    "print(data.shape)"
   ]
  },
  {
   "cell_type": "code",
   "execution_count": null,
   "id": "e9b161e6",
   "metadata": {},
   "outputs": [],
   "source": []
  }
 ],
 "metadata": {
  "kernelspec": {
   "display_name": "Python 3.10.4 64-bit",
   "language": "python",
   "name": "python3"
  },
  "language_info": {
   "codemirror_mode": {
    "name": "ipython",
    "version": 3
   },
   "file_extension": ".py",
   "mimetype": "text/x-python",
   "name": "python",
   "nbconvert_exporter": "python",
   "pygments_lexer": "ipython3",
   "version": "3.10.4"
  },
  "vscode": {
   "interpreter": {
    "hash": "d3e10ef16274dd72e574b8fa73b58450b957d8421a2901baded3cca26fcf5dda"
   }
  }
 },
 "nbformat": 4,
 "nbformat_minor": 5
}
