{
 "cells": [
  {
   "cell_type": "markdown",
   "id": "47a7cffb",
   "metadata": {},
   "source": [
    "### Topics ###\n",
    "\n",
    "![](2023-08-04-20-39-03.png)"
   ]
  },
  {
   "cell_type": "code",
   "execution_count": 11,
   "id": "7c78852c",
   "metadata": {},
   "outputs": [
    {
     "name": "stdout",
     "output_type": "stream",
     "text": [
      "1.22.3\n",
      "a: [1 2 4]\n",
      "shape: (3,)\n",
      "dtype: int32\n",
      "no. of dim: 1\n",
      "no. of elements: 3\n",
      "size of each item: 4\n"
     ]
    }
   ],
   "source": [
    "import numpy as np\n",
    "print(np.__version__)\n",
    "\n",
    "a = np.array([1,2,4])\n",
    "print(f'a: {a}')\n",
    "print(f'shape: {a.shape}')\n",
    "print(f'dtype: {a.dtype}')\n",
    "print(f'no. of dim: {a.ndim}')\n",
    "print(f'no. of elements: {a.size}')\n",
    "print(f'size of each item: {a.itemsize}')"
   ]
  },
  {
   "cell_type": "markdown",
   "id": "a484435c",
   "metadata": {},
   "source": [
    "## Arrays vs Lists ##\n",
    "\n",
    "### Data Type: ###\n",
    "* Lists: A list in Python is a collection of heterogeneous data types. This means you can have elements of different types (e.g., integers, strings, floats) within the same list.\n",
    "* Arrays: In Python, arrays are implemented through the NumPy library. Arrays are homogeneous, meaning all elements in the array must have the same data type (e.g., int, float, etc.).\n",
    "\n",
    "### Functionality and Operations: ###\n",
    "* Lists: Python lists come with a wide range of built-in methods for manipulation, such as `append(), pop(), extend()`, etc. They are versatile and flexible but may not be as efficient for numerical computations.\n",
    "* Arrays: Numpy arrays offer a variety of numerical operations that can be performed on the entire array efficiently due to their homogeneous nature. These operations include element-wise arithmetic, broadcasting, matrix multiplication, and more.\n",
    "\n",
    "### Performance: ###\n",
    "* Lists: Python lists are generally slower for numerical computations and large-scale data manipulation due to their dynamic nature and lack of vectorization.\n",
    "* Arrays: Numpy arrays are optimized for numerical computations and are significantly faster for large datasets, especially when using vectorized operations.\n",
    "\n",
    "### Memory Overhead: ###\n",
    "* Lists: Python lists have more memory overhead compared to arrays due to additional information they store, such as the type of each element and the reference count.\n",
    "* Arrays: Numpy arrays have less memory overhead because they store data more compactly in contiguous blocks of memory."
   ]
  },
  {
   "cell_type": "code",
   "execution_count": 16,
   "id": "05e97712",
   "metadata": {},
   "outputs": [
    {
     "name": "stdout",
     "output_type": "stream",
     "text": [
      "46\n",
      "46\n",
      "46\n"
     ]
    }
   ],
   "source": [
    "# Dot product #\n",
    "a = np.array([1,2,3])\n",
    "b = np.array([4,9,8])\n",
    "\n",
    "# method 1\n",
    "dot = (a * b).sum()\n",
    "print(dot)\n",
    "\n",
    "# method 2\n",
    "print(np.dot(a,b))\n",
    "\n",
    "# method 3\n",
    "dot1 = a @ b\n",
    "print(dot1)"
   ]
  },
  {
   "cell_type": "code",
   "execution_count": 42,
   "id": "626b00ba",
   "metadata": {},
   "outputs": [
    {
     "name": "stdout",
     "output_type": "stream",
     "text": [
      "[[1 3]\n",
      " [4 7]]\n",
      "(2, 2)\n",
      "3\n",
      "retrieve all the rows in column 0:\n",
      " [1 4]\n",
      "retrieve all the coulmn in row 0:\n",
      " [1 3]\n",
      "transpose:\n",
      "[[1 4]\n",
      " [3 7]]\n",
      "determinant:\n",
      "-4.999999999999999\n",
      "inverse:\n",
      "[[-1.4  0.6]\n",
      " [ 0.8 -0.2]]\n",
      "bool array: [[False False]\n",
      " [False False]\n",
      " [ True  True]\n",
      " [ True False]]\n",
      "value array: [6 9 5]\n",
      "modified array: [[-1  4]\n",
      " [ 3 -1]\n",
      " [ 6  9]\n",
      " [ 5 -1]]\n",
      "fancy indexing: [32 54 74 34]\n"
     ]
    }
   ],
   "source": [
    "# MULTIDIMENSIONAL ARRAYS #\n",
    "\n",
    "mArr = np.array([[1,3], [4,7]])\n",
    "print(mArr)\n",
    "print(mArr.shape)\n",
    "print(mArr[0,1])\n",
    "\n",
    "# retrieve all the rows in column 0\n",
    "print(f'retrieve all the rows in column 0:\\n {mArr[:,0]}')\n",
    "# retrieve all the coulmn in row 0\n",
    "print(f'retrieve all the coulmn in row 0:\\n {mArr[0,:]}')\n",
    "\n",
    "# transpose\n",
    "print(f'transpose:\\n{mArr.T}')\n",
    "\n",
    "# determinant\n",
    "print(f'determinant:\\n{np.linalg.det(mArr)}')\n",
    "\n",
    "# inverse\n",
    "print(f'inverse:\\n{np.linalg.inv(mArr)}')   # the array should be a square one\n",
    "\n",
    "# bool indexing\n",
    "a1 = np.array([[1,4], [3,2], [6,9], [5,0]])\n",
    "bool_idx = a1>4\n",
    "print(f'bool array: {bool_idx}')\n",
    "print(f'value array: {a1[a1>4]}')\n",
    "\n",
    "# modifying array based on certain condition\n",
    "b1 = np.where(a1>2, a1, -1)\n",
    "print(f'modified array: {b1}')\n",
    "\n",
    "# fancy indexing\n",
    "c1 = np.array([32,54,23,74,34,87])\n",
    "c2 = np.argwhere(c1%2 == 0).flatten()    # index array  # .flatten() - suppresses the array to 1D\n",
    "print(f'fancy indexing: {c1[c2]}')\n",
    "\n"
   ]
  },
  {
   "cell_type": "code",
   "execution_count": 44,
   "id": "2c470dd1",
   "metadata": {},
   "outputs": [
    {
     "data": {
      "text/plain": [
       "array([[2, 6],\n",
       "       [3, 7],\n",
       "       [5, 9]])"
      ]
     },
     "execution_count": 44,
     "metadata": {},
     "output_type": "execute_result"
    }
   ],
   "source": [
    "# reshaping\n",
    "\n",
    "a2 = np.array([2,6,3,7,5,9])\n",
    "a2.reshape(3,2)\n",
    "#a2.reshape(2,4) # ERROR"
   ]
  },
  {
   "cell_type": "code",
   "execution_count": null,
   "id": "400c10d4",
   "metadata": {},
   "outputs": [],
   "source": []
  }
 ],
 "metadata": {
  "kernelspec": {
   "display_name": "Python 3.10.4 64-bit",
   "language": "python",
   "name": "python3"
  },
  "language_info": {
   "codemirror_mode": {
    "name": "ipython",
    "version": 3
   },
   "file_extension": ".py",
   "mimetype": "text/x-python",
   "name": "python",
   "nbconvert_exporter": "python",
   "pygments_lexer": "ipython3",
   "version": "3.10.4"
  },
  "vscode": {
   "interpreter": {
    "hash": "d3e10ef16274dd72e574b8fa73b58450b957d8421a2901baded3cca26fcf5dda"
   }
  }
 },
 "nbformat": 4,
 "nbformat_minor": 5
}
