{
 "cells": [
  {
   "cell_type": "markdown",
   "id": "7fe59df1",
   "metadata": {},
   "source": [
    "# Python Intermediate:"
   ]
  },
  {
   "cell_type": "markdown",
   "id": "19b51d50",
   "metadata": {},
   "source": [
    "## Lists:\n",
    "\n",
    "Ordered | Mutable | allows duplicate elements | squared brackets"
   ]
  },
  {
   "cell_type": "code",
   "execution_count": null,
   "id": "4067ef37",
   "metadata": {},
   "outputs": [],
   "source": [
    "### EXAMPLES ###\n",
    "\n",
    "fruitList = [\"banana\", \"apple\", \"orange\", \"pome\"]\n",
    "print(fruitList)\n",
    "\n",
    "listOfBugs = list()\n",
    "print(listOfBugs)      #prints an empty list\n",
    "\n",
    "# allows multiple datatypes and duplicates\n",
    "randomList = [5, 20.5, \"hello\", \"hello\"]      \n",
    "\n",
    "# negative indices fetch the element from last\n",
    "fruit = fruitList[-1]     \n",
    "print(fruit)\n",
    "\n",
    "# check if element is present in the list\n",
    "if 'apple' in fruitList:   print('yes')\n",
    "\n",
    "# print the length of lists\n",
    "print (len(fruitList))     \n",
    "\n",
    "# insert an element at specific index\n",
    "fruitList.insert(2, \"lemon\")      \n",
    "print(fruitList)\n",
    "\n",
    "# remove elements\n",
    "item = fruitList.pop()     #removes an item at the end and assign it to 'item' variable\n",
    "#fruitList.remove('apple')\n",
    "print(fruitList)\n",
    "#fruitList.clear()\n",
    "\n",
    "#reverse elements\n",
    "fruitList.reverse()\n",
    "print(fruitList)\n",
    "\n",
    "#sort elements\n",
    "fruitList.sort()\n",
    "print(fruitList)\n",
    "\n",
    "#create a list with n similar elements\n",
    "list1 = [0] * 5\n",
    "print(list1)\n",
    "\n",
    "#concatenate lists\n",
    "list_con = fruitList+list1\n",
    "print(list_con)\n",
    "\n",
    "#count the number of elements\n",
    "print(list_con.count(0))\n",
    "\n",
    "#slice the list\n",
    "list_slice = list_con[1:3]\n",
    "print(list_slice)\n",
    "\n",
    "#slice the list with steps\n",
    "list_slice_step = list_con[::2]     #use negative index [-2] to slice it from the end\n",
    "print(list_slice_step)\n",
    "\n",
    "#list comprehension\n",
    "nums = [1,2,3,5,7,9]\n",
    "sq_nums = [i*i for i in nums]\n",
    "print(sq_nums)\n",
    "\n"
   ]
  },
  {
   "cell_type": "markdown",
   "id": "92b4dfad",
   "metadata": {},
   "source": [
    "## Tuples:\n",
    "\n",
    "Ordered | Immutable | allows duplicates | doesn't allow elements modification"
   ]
  },
  {
   "cell_type": "code",
   "execution_count": null,
   "id": "6683f0e6",
   "metadata": {},
   "outputs": [],
   "source": [
    "### EXAMPLES ###\n",
    "\n",
    "tuple1 = ('bhuvan', 23, 'dev')\n",
    "print (tuple1)\n",
    "\n",
    "#getting the index of specific element \n",
    "print(tuple1.index('dev'))\n",
    "\n",
    "#unpacking elements\n",
    "num_tuple = (1,4,2,6,3,4)\n",
    "i1, *i2, i3 = num_tuple     # '*' denotes all the element between the i1 and i3\n",
    "print(i1)\n",
    "print(i2)\n",
    "print(i3)"
   ]
  },
  {
   "cell_type": "code",
   "execution_count": null,
   "metadata": {},
   "outputs": [],
   "source": [
    "# LISTS vs TUPLES\n",
    "\n",
    "# List takes up more memory and takes more time to create\n",
    "\n",
    "import sys\n",
    "list1 = [0, 'a', 'hello', 10.5]\n",
    "tuple1 = (0, 'a', 'hello', 10.5)\n",
    "print(sys.getsizeof(list1),'bytes')\n",
    "print(sys.getsizeof(tuple1),'bytes')"
   ]
  },
  {
   "cell_type": "markdown",
   "id": "2e2dc232",
   "metadata": {},
   "source": [
    "## Dictionaries:\n",
    "\n",
    "Key-value pairs | Unordered | Mutable"
   ]
  },
  {
   "cell_type": "code",
   "execution_count": null,
   "id": "7eafa68d",
   "metadata": {},
   "outputs": [],
   "source": [
    "sampleDict1 = {\"name\":\"Bhuvan\", \"age\":\"23\", \"state\":\"TamilNadu\"}\n",
    "print(sampleDict1)\n",
    "\n",
    "sampleDict2 = dict(name= \"Devi ma\", age=45, state=\"TamilNadu\")\n",
    "print(sampleDict2)\n",
    "\n",
    "#accessing elements\n",
    "mother = sampleDict2[\"name\"]\n",
    "print(mother)\n",
    "\n",
    "#add items\n",
    "sampleDict1[\"email\"]= \"bhuvanbharath@outlook.com\"\n",
    "print(sampleDict1)\n",
    "\n",
    "#remove items\n",
    "sampleDict1.pop(\"age\")\n",
    "print(sampleDict1)\n",
    "\n",
    "#check if an items is present in dict\n",
    "try:\n",
    "    print(sampleDict1[\"name\"])\n",
    "except:\n",
    "    print(\"an error\")\n",
    "\n",
    "#print all the items in the dictionary\n",
    "for key, value in sampleDict1.items():\n",
    "    print(key, value)\n",
    "\n",
    "#adding tuples in the dicts\n",
    "tuple_dict = ('bhuvan', 'bharath')\n",
    "dict1 = dict(myName=tuple_dict)\n",
    "print(dict1)"
   ]
  },
  {
   "cell_type": "code",
   "execution_count": null,
   "id": "6bfe5532",
   "metadata": {},
   "outputs": [],
   "source": []
  }
 ],
 "metadata": {
  "kernelspec": {
   "display_name": "Python 3.10.5 64-bit",
   "language": "python",
   "name": "python3"
  },
  "language_info": {
   "codemirror_mode": {
    "name": "ipython",
    "version": 3
   },
   "file_extension": ".py",
   "mimetype": "text/x-python",
   "name": "python",
   "nbconvert_exporter": "python",
   "pygments_lexer": "ipython3",
   "version": "3.10.5"
  },
  "vscode": {
   "interpreter": {
    "hash": "e3db7fa2cb27b3e5de4b2dd36c7e59f05b600ebf41fe4f965ec8aafb6371face"
   }
  }
 },
 "nbformat": 4,
 "nbformat_minor": 5
}
